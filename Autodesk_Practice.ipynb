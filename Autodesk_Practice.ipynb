{
  "nbformat": 4,
  "nbformat_minor": 0,
  "metadata": {
    "colab": {
      "provenance": [],
      "authorship_tag": "ABX9TyMAwi8PcW6fgrkP7m0OCAop",
      "include_colab_link": true
    },
    "kernelspec": {
      "name": "python3",
      "display_name": "Python 3"
    },
    "language_info": {
      "name": "python"
    }
  },
  "cells": [
    {
      "cell_type": "markdown",
      "metadata": {
        "id": "view-in-github",
        "colab_type": "text"
      },
      "source": [
        "<a href=\"https://colab.research.google.com/github/MiguelEnriquePortilla/Autodesk-Practice/blob/main/Autodesk_Practice.ipynb\" target=\"_parent\"><img src=\"https://colab.research.google.com/assets/colab-badge.svg\" alt=\"Open In Colab\"/></a>"
      ]
    },
    {
      "cell_type": "markdown",
      "source": [
        "# Autodesk APAC Customer Usage Analytics\n",
        "## A Comprehensive Analysis of Customer Adoption and Engagement Patterns\n",
        "\n",
        "---\n",
        "\n",
        "### Executive Summary\n",
        "\n",
        "This analysis examines customer usage behavior patterns across Autodesk's APAC customer base over a six-month period (May 2024 - August 2024). Our stakeholders need actionable insights to understand baseline performance metrics, identify growth opportunities, and mitigate churn risks in this critical market.\n",
        "\n",
        "---\n",
        "\n",
        "### Business Context & Challenge\n",
        "\n",
        "Autodesk's APAC region represents a diverse and rapidly evolving market with varying customer maturity levels, regional preferences, and adoption patterns. Understanding how customers interact with our products is crucial for:\n",
        "\n",
        "- **Revenue Optimization**: Identifying expansion opportunities\n",
        "- **Churn Prevention**: Detecting early warning signals\n",
        "- **Resource Allocation**: Focusing support where it's most needed\n",
        "- **Product Strategy**: Tailoring offerings to regional needs\n",
        "\n",
        "---\n",
        "\n",
        "### Key Business Questions\n",
        "\n",
        "Our analysis addresses five critical questions that will drive strategic decision-making:\n",
        "\n",
        "1. **Baseline Performance**: What are the current Assignment Rate and Utilization Rate benchmarks for APAC customers?\n",
        "\n",
        "2. **Size Segmentation**: How do usage patterns vary across different customer segments (by seat count)?\n",
        "\n",
        "3. **Customer Journey**: What usage trends emerge as customers mature with Autodesk?\n",
        "\n",
        "4. **Regional Variations**: How do different APAC regions perform relative to each other?\n",
        "\n",
        "5. **Risk & Opportunity Signals**: Which usage patterns indicate potential churn or expansion opportunities?\n",
        "\n",
        "---\n",
        "\n",
        "### Success Metrics Definition\n",
        "\n",
        "**Assignment Rate**: Percentage of purchased seats that have been assigned to users\n",
        "```\n",
        "Assignment Rate = (Seats Assigned / Seats Purchased) × 100\n",
        "```\n",
        "\n",
        "**Utilization Rate**: Percentage of purchased seats with active monthly usage\n",
        "```\n",
        "Utilization Rate = (Monthly Active Users / Seats Purchased) × 100\n",
        "```\n",
        "\n",
        "These metrics serve as proxies for:\n",
        "- **Assignment Rate**: Customer onboarding effectiveness and admin engagement\n",
        "- **Utilization Rate**: Actual product value realization and user adoption"
      ],
      "metadata": {
        "id": "xYC3BZ2ANw4i"
      }
    },
    {
      "cell_type": "code",
      "source": [
        "import pandas as pd\n",
        "import numpy as np\n",
        "\n",
        "# Load datasets with correct names from the files panel\n",
        "account_age_performance = pd.read_csv('ACCOUNT_AGE_PERFORMANCE.csv')\n",
        "month_05_df = pd.read_csv('MONTH_05.csv')\n",
        "month_06_df = pd.read_csv('MONTH_06.csv')\n",
        "month_07_df = pd.read_csv('MONTH_07.csv')\n",
        "month_08_df = pd.read_csv('MONTH_08.csv')\n",
        "\n",
        "print(\"✅ All datasets loaded successfully!\")"
      ],
      "metadata": {
        "colab": {
          "base_uri": "https://localhost:8080/"
        },
        "id": "DcKbR2Jb5JDg",
        "outputId": "341cdabe-c8ef-46e7-b390-5f918edffd95"
      },
      "execution_count": 13,
      "outputs": [
        {
          "output_type": "stream",
          "name": "stdout",
          "text": [
            "✅ All datasets loaded successfully!\n"
          ]
        }
      ]
    },
    {
      "cell_type": "markdown",
      "source": [
        "## Phase 1: Data Foundation\n",
        "\n",
        "### Step 1 - Initial Data Assessment\n",
        "\n",
        "We begin by examining our data assets to understand structure, quality, and coverage across the APAC customer base.\n",
        "\n",
        "**Data Overview**: We have account dimension data (242K customers) and monthly usage snapshots (May-August 2024) totaling ~955K records.\n",
        "\n",
        "**Quality Assessment Goal**: Verify data completeness, identify any structural issues, and ensure we have a solid foundation for analysis."
      ],
      "metadata": {
        "id": "pALW5YTTOGDT"
      }
    },
    {
      "cell_type": "code",
      "source": [
        "# Step 1: Initial Data Assessment\n",
        "print(\"Autodesk APAC Data Overview\")\n",
        "print(\"=\" * 30)\n",
        "\n",
        "# Examine account dimension data\n",
        "print(\"Account Dimension Data:\")\n",
        "print(f\"  Records: {account_age_performance.shape[0]:,}\")\n",
        "print(f\"  Columns: {list(account_age_performance.columns)}\")\n",
        "\n",
        "# Examine monthly usage data\n",
        "monthly_datasets = [month_05_df, month_06_df, month_07_df, month_08_df]\n",
        "total_records = sum(df.shape[0] for df in monthly_datasets)\n",
        "\n",
        "print(f\"\\nMonthly Usage Data:\")\n",
        "print(f\"  Total records: {total_records:,}\")\n",
        "print(f\"  Months covered: {len(monthly_datasets)}\")\n",
        "print(f\"  Columns: {list(month_05_df.columns)}\")\n",
        "\n",
        "print(f\"\\nData Quality Check:\")\n",
        "for i, df in enumerate(monthly_datasets, 5):\n",
        "    missing = df.isnull().sum().sum()\n",
        "    duplicates = df['ACCOUNT_ID'].duplicated().sum()\n",
        "    print(f\"  Month {i}: {missing} missing values, {duplicates} duplicates\")"
      ],
      "metadata": {
        "colab": {
          "base_uri": "https://localhost:8080/"
        },
        "id": "TNTy-OThOHOK",
        "outputId": "40c1460a-2dfc-4dc3-c2e3-1fa58efb2755"
      },
      "execution_count": 14,
      "outputs": [
        {
          "output_type": "stream",
          "name": "stdout",
          "text": [
            "Autodesk APAC Data Overview\n",
            "==============================\n",
            "Account Dimension Data:\n",
            "  Records: 242,443\n",
            "  Columns: ['ACCOUNT_ID', 'ACCOUNT_PERFORMANCE_CATEGORY', 'ACCOUNT_AGE']\n",
            "\n",
            "Monthly Usage Data:\n",
            "  Total records: 955,033\n",
            "  Months covered: 4\n",
            "  Columns: ['MONTH', 'ACCOUNT_ID', 'REGION', 'SEATS_PURCHASED', 'SEATS_ASSIGNED', 'MAU', 'ASSIGNMENT_RATE', 'UTILIZATION_RATE']\n",
            "\n",
            "Data Quality Check:\n",
            "  Month 5: 0 missing values, 0 duplicates\n",
            "  Month 6: 0 missing values, 0 duplicates\n",
            "  Month 7: 0 missing values, 0 duplicates\n",
            "  Month 8: 0 missing values, 0 duplicates\n"
          ]
        }
      ]
    },
    {
      "cell_type": "markdown",
      "source": [
        "## Step 1 Results\n",
        "\n",
        "### Data Quality Assessment\n",
        "\n",
        "**Excellent Foundation**: Perfect data completeness across all datasets - zero missing values and no duplicate accounts per month.\n",
        "\n",
        "**Scale & Coverage**: 955K usage records across 4 months provides robust statistical power for trend analysis.\n",
        "\n",
        "**Structure Validation**: Both datasets have clean, consistent structure suitable for comprehensive analysis.\n",
        "\n",
        "### Key Insights\n",
        "\n",
        "- **242K unique customer accounts** in dimension table\n",
        "- **955K monthly usage records** spanning May-August 2024\n",
        "- **Zero data quality issues** - no missing values or duplicates\n",
        "- **Consistent monthly coverage** - even distribution across all months\n",
        "\n",
        "### Next Step Strategy\n",
        "\n",
        "With confirmed data quality, we can proceed to examine customer maturity profiles through tenure analysis."
      ],
      "metadata": {
        "id": "RgpRbZQdOUwZ"
      }
    },
    {
      "cell_type": "markdown",
      "metadata": {
        "id": "f16a51dc"
      },
      "source": [
        "<hr style=\"border-top: 1px solid blue;\">"
      ]
    },
    {
      "cell_type": "markdown",
      "source": [
        "## Step 2 - Customer Tenure Analysis\n",
        "\n",
        "Understanding the maturity profile of our customer base is essential for setting appropriate benchmarks and expectations.\n",
        "\n",
        "**Why Tenure Matters**: Different customer segments behave differently based on their journey with Autodesk - new customers vs. veterans have distinct usage patterns and needs.\n",
        "\n",
        "**Analysis Goal**: Determine the distribution of customer maturity levels to inform segmentation strategy."
      ],
      "metadata": {
        "id": "BLEbGKGPO08v"
      }
    },
    {
      "cell_type": "markdown",
      "metadata": {
        "id": "ceb123ca"
      },
      "source": [
        "<hr style=\"border-top: 1px solid blue;\">"
      ]
    },
    {
      "cell_type": "code",
      "source": [
        "# Step 2: Customer Tenure Distribution\n",
        "print(\"Customer Tenure Analysis\")\n",
        "print(\"=\" * 25)\n",
        "\n",
        "# Analyze customer tenure distribution\n",
        "tenure_dist = account_age_performance['ACCOUNT_AGE'].value_counts().sort_index()\n",
        "print(\"Tenure Distribution:\")\n",
        "print(tenure_dist)\n",
        "\n",
        "# Calculate percentages\n",
        "tenure_pct = account_age_performance['ACCOUNT_AGE'].value_counts(normalize=True).sort_index() * 100\n",
        "print(f\"\\nTenure Percentages:\")\n",
        "for tenure, pct in tenure_pct.items():\n",
        "    print(f\"{tenure}: {pct:.1f}%\")\n",
        "\n",
        "print(f\"\\nMissing tenure data: {account_age_performance['ACCOUNT_AGE'].isnull().sum():,} accounts\")"
      ],
      "metadata": {
        "id": "ceTxZhadO4bR",
        "colab": {
          "base_uri": "https://localhost:8080/"
        },
        "outputId": "e899638c-9f2c-4567-f961-4fa6f9a11368"
      },
      "execution_count": 15,
      "outputs": [
        {
          "output_type": "stream",
          "name": "stdout",
          "text": [
            "Customer Tenure Analysis\n",
            "=========================\n",
            "Tenure Distribution:\n",
            "ACCOUNT_AGE\n",
            "1-2 Years              41385\n",
            "1st Year - 1st Qtr        37\n",
            "1st Year - 2nd Qtr     14297\n",
            "1st Year - 3rd Qtr     14290\n",
            "1st Year - 4th Qtr     13047\n",
            "2 Years                 9701\n",
            "2-3 Years              25015\n",
            "3 Years                 8393\n",
            "3+ Years              112480\n",
            "Name: count, dtype: int64\n",
            "\n",
            "Tenure Percentages:\n",
            "1-2 Years: 17.3%\n",
            "1st Year - 1st Qtr: 0.0%\n",
            "1st Year - 2nd Qtr: 6.0%\n",
            "1st Year - 3rd Qtr: 6.0%\n",
            "1st Year - 4th Qtr: 5.5%\n",
            "2 Years: 4.1%\n",
            "2-3 Years: 10.5%\n",
            "3 Years: 3.5%\n",
            "3+ Years: 47.1%\n",
            "\n",
            "Missing tenure data: 3,798 accounts\n"
          ]
        }
      ]
    },
    {
      "cell_type": "markdown",
      "metadata": {
        "id": "0_B96ZimO_K2"
      },
      "source": [
        "<hr style=\"border-top: 5px solid blue;\">"
      ]
    },
    {
      "cell_type": "markdown",
      "source": [
        "## Step 2 Results\n",
        "\n",
        "### Customer Maturity Profile\n",
        "\n",
        "**Mature Customer Base**: 47.1% are veteran customers (3+ years), indicating strong retention and business stability.\n",
        "\n",
        "**Balanced Pipeline**: 17.6% are in their first year across all quarters, showing consistent new customer acquisition.\n",
        "\n",
        "**Stable Mid-Tier**: 27.9% are in the 1-3 year maturation phase, representing customers finding their rhythm with Autodesk products.\n",
        "\n",
        "### Key Business Implications\n",
        "\n",
        "**Stability**: The heavy skew toward veteran customers (47.1%) suggests we have a stable revenue base.\n",
        "\n",
        "**Opportunity**: Veterans are prime candidates for expansion and upselling initiatives.\n",
        "\n",
        "**Data Quality**: Only 1.6% missing tenure data indicates excellent data completeness.\n",
        "\n",
        "### Next Step Strategy\n",
        "\n",
        "With customer maturity understood, we'll now examine performance categories to identify risk and opportunity signals."
      ],
      "metadata": {
        "id": "j5vYn5AzPQvU"
      }
    },
    {
      "cell_type": "markdown",
      "source": [
        "\n",
        "\n",
        "---\n",
        "\n"
      ],
      "metadata": {
        "id": "oPLVEwKTPUIf"
      }
    },
    {
      "cell_type": "markdown",
      "source": [
        "## Step 3 - Performance Category Analysis\n",
        "\n",
        "Performance categories reveal recent customer behavior trends - critical for identifying risk and opportunity signals.\n",
        "\n",
        "**Categories Explained**:\n",
        "- **New**: Recently acquired customers\n",
        "- **Expansion**: Increased subscriptions (growth signal)\n",
        "- **Flat**: No subscription changes (status quo)\n",
        "- **Contraction**: Decreased subscriptions (risk signal)\n",
        "- **Churn**: Dropped all subscriptions (lost customers)\n",
        "\n",
        "**Analysis Goal**: Assess overall APAC market health and identify intervention priorities."
      ],
      "metadata": {
        "id": "GB5qVAI2PWk7"
      }
    },
    {
      "cell_type": "markdown",
      "source": [
        "\n",
        "\n",
        "---\n",
        "\n"
      ],
      "metadata": {
        "id": "K_p6wbPmPZS9"
      }
    },
    {
      "cell_type": "code",
      "source": [
        "# Step 3: Performance Category Analysis\n",
        "print(\"Customer Performance Categories\")\n",
        "print(\"=\" * 32)\n",
        "\n",
        "# Analyze performance distribution\n",
        "perf_dist = account_age_performance['ACCOUNT_PERFORMANCE_CATEGORY'].value_counts()\n",
        "print(\"Performance Distribution:\")\n",
        "print(perf_dist)\n",
        "\n",
        "# Calculate percentages and key business metrics\n",
        "perf_pct = account_age_performance['ACCOUNT_PERFORMANCE_CATEGORY'].value_counts(normalize=True) * 100\n",
        "print(f\"\\nPerformance Percentages:\")\n",
        "for category, pct in perf_pct.items():\n",
        "    print(f\"{category}: {pct:.1f}%\")\n",
        "\n",
        "# Calculate business health ratios\n",
        "expansion_rate = perf_pct.get('Expansion', 0)\n",
        "contraction_rate = perf_pct.get('Contraction', 0)\n",
        "churn_rate = perf_pct.get('Churn', 0)\n",
        "\n",
        "print(f\"\\nBusiness Health Metrics:\")\n",
        "print(f\"Growth Ratio (Expansion/Contraction): {expansion_rate/contraction_rate:.1f}x\")\n",
        "print(f\"Net Growth Rate: {expansion_rate - contraction_rate:.1f}%\")\n",
        "print(f\"Churn Rate: {churn_rate:.1f}%\")"
      ],
      "metadata": {
        "id": "3vTQugpOPbSb",
        "colab": {
          "base_uri": "https://localhost:8080/"
        },
        "outputId": "3432908d-5b1a-4fa5-b186-80284b2ce5dc"
      },
      "execution_count": 16,
      "outputs": [
        {
          "output_type": "stream",
          "name": "stdout",
          "text": [
            "Customer Performance Categories\n",
            "================================\n",
            "Performance Distribution:\n",
            "ACCOUNT_PERFORMANCE_CATEGORY\n",
            "Flat           173707\n",
            "Expansion       34730\n",
            "New             16322\n",
            "Contraction     13407\n",
            "Churn            3766\n",
            "Name: count, dtype: int64\n",
            "\n",
            "Performance Percentages:\n",
            "Flat: 71.8%\n",
            "Expansion: 14.4%\n",
            "New: 6.7%\n",
            "Contraction: 5.5%\n",
            "Churn: 1.6%\n",
            "\n",
            "Business Health Metrics:\n",
            "Growth Ratio (Expansion/Contraction): 2.6x\n",
            "Net Growth Rate: 8.8%\n",
            "Churn Rate: 1.6%\n"
          ]
        }
      ]
    },
    {
      "cell_type": "markdown",
      "source": [
        "\n",
        "\n",
        "---\n",
        "\n"
      ],
      "metadata": {
        "id": "yZdr8dSaPnCN"
      }
    },
    {
      "cell_type": "markdown",
      "source": [
        "## Step 3 Results\n",
        "\n",
        "### Strong Business Health Indicators\n",
        "\n",
        "**Growth Ratio of 2.6x**: For every customer contracting, 2.6 are expanding - excellent growth momentum.\n",
        "\n",
        "**Net Growth Rate of 8.8%**: Healthy positive growth after accounting for contraction.\n",
        "\n",
        "**Low Churn Rate of 1.6%**: Outstanding customer retention performance.\n",
        "\n",
        "### Performance Distribution Analysis\n",
        "\n",
        "**Stable Base**: 71.8% flat customers indicate predictable, stable revenue foundation.\n",
        "\n",
        "**Growth Activity**: 21.1% combined new + expansion customers shows healthy business development.\n",
        "\n",
        "**Risk Management**: Only 7.1% in contraction + churn categories suggests effective customer success.\n",
        "\n",
        "### Strategic Implications\n",
        "\n",
        "**Market Strength**: 2.6x growth ratio indicates strong competitive position in APAC.\n",
        "\n",
        "**Intervention Priorities**: Focus on 5.5% contraction customers to prevent churn progression.\n",
        "\n",
        "### Next Step Strategy\n",
        "\n",
        "With customer base health confirmed, we'll now examine the usage data structure and validate metric calculations."
      ],
      "metadata": {
        "id": "N2zBxu7XPop6"
      }
    },
    {
      "cell_type": "markdown",
      "source": [
        "\n",
        "\n",
        "---\n",
        "\n"
      ],
      "metadata": {
        "id": "49NQpm1JPrb7"
      }
    },
    {
      "cell_type": "markdown",
      "source": [
        "## Step 4 - Usage Data Structure & Validation\n",
        "\n",
        "Now we examine the actual usage metrics - Assignment Rate and Utilization Rate - which form the core of our analysis.\n",
        "\n",
        "**Critical Step**: Before analyzing usage patterns, we must validate that metrics are calculated correctly and formatted consistently.\n",
        "\n",
        "**Why Validation Matters**: Incorrect metric interpretation would lead to wrong baselines and flawed recommendations.\n",
        "\n",
        "**Analysis Goal**: Verify data structure, regional distribution, and metric calculation accuracy."
      ],
      "metadata": {
        "id": "m1VYs1D9PsDj"
      }
    },
    {
      "cell_type": "markdown",
      "source": [
        "\n",
        "\n",
        "---\n",
        "\n"
      ],
      "metadata": {
        "id": "7A2NCPMXPuIn"
      }
    },
    {
      "cell_type": "code",
      "source": [
        "# Step 4: Usage Data Structure & Validation\n",
        "print(\"Monthly Usage Data Analysis\")\n",
        "print(\"=\" * 30)\n",
        "\n",
        "# Examine Month 05 structure in detail\n",
        "print(\"Month 05 Dataset Overview:\")\n",
        "print(f\"Shape: {month_05_df.shape}\")\n",
        "print(f\"Columns: {list(month_05_df.columns)}\")\n",
        "\n",
        "# Regional distribution\n",
        "print(f\"\\nRegional Distribution:\")\n",
        "region_dist = month_05_df['REGION'].value_counts()\n",
        "for region, count in region_dist.items():\n",
        "    print(f\"{region}: {count:,} ({count/len(month_05_df)*100:.1f}%)\")\n",
        "\n",
        "# Metric ranges - critical validation step\n",
        "print(f\"\\nMetric Ranges:\")\n",
        "print(f\"Assignment Rate: {month_05_df['ASSIGNMENT_RATE'].min():.3f} to {month_05_df['ASSIGNMENT_RATE'].max():.3f}\")\n",
        "print(f\"Utilization Rate: {month_05_df['UTILIZATION_RATE'].min():.3f} to {month_05_df['UTILIZATION_RATE'].max():.3f}\")\n",
        "\n",
        "# Sample calculation check\n",
        "sample = month_05_df.head(3)[['SEATS_PURCHASED', 'SEATS_ASSIGNED', 'MAU', 'ASSIGNMENT_RATE', 'UTILIZATION_RATE']]\n",
        "print(f\"\\nSample Records for Validation:\")\n",
        "print(sample)"
      ],
      "metadata": {
        "id": "r7wMMpotPxRp",
        "colab": {
          "base_uri": "https://localhost:8080/"
        },
        "outputId": "d73b8607-b2bb-40e0-ca98-1238f30e4022"
      },
      "execution_count": 17,
      "outputs": [
        {
          "output_type": "stream",
          "name": "stdout",
          "text": [
            "Monthly Usage Data Analysis\n",
            "==============================\n",
            "Month 05 Dataset Overview:\n",
            "Shape: (238730, 8)\n",
            "Columns: ['MONTH', 'ACCOUNT_ID', 'REGION', 'SEATS_PURCHASED', 'SEATS_ASSIGNED', 'MAU', 'ASSIGNMENT_RATE', 'UTILIZATION_RATE']\n",
            "\n",
            "Regional Distribution:\n",
            "Japan: 75,296 (31.5%)\n",
            "Korea: 37,000 (15.5%)\n",
            "ANZ: 35,074 (14.7%)\n",
            "Asean: 34,288 (14.4%)\n",
            "INDIA: 29,353 (12.3%)\n",
            "Greater China: 27,719 (11.6%)\n",
            "\n",
            "Metric Ranges:\n",
            "Assignment Rate: 0.000 to 1.000\n",
            "Utilization Rate: 0.000 to 33.670\n",
            "\n",
            "Sample Records for Validation:\n",
            "   SEATS_PURCHASED  SEATS_ASSIGNED  MAU  ASSIGNMENT_RATE  UTILIZATION_RATE\n",
            "0                1               1    1             1.00              1.00\n",
            "1                3               1    1             0.33              0.33\n",
            "2               13              12    9             0.92              0.69\n"
          ]
        }
      ]
    },
    {
      "cell_type": "markdown",
      "source": [
        "\n",
        "\n",
        "---\n",
        "\n"
      ],
      "metadata": {
        "id": "wDXg0MaPQowN"
      }
    },
    {
      "cell_type": "markdown",
      "source": [
        "## Step 4 Results\n",
        "\n",
        "### Regional Distribution Analysis\n",
        "\n",
        "**Japan Dominates**: 31.5% of accounts, establishing it as the largest APAC market.\n",
        "\n",
        "**Balanced Representation**: All six regions have substantial representation (11.6% - 31.5%), enabling robust regional comparisons.\n",
        "\n",
        "### Critical Metric Format Discovery\n",
        "\n",
        "**Key Finding**: Metrics are in decimal format (0-1) rather than percentage format (0-100).\n",
        "\n",
        "**Evidence**: Assignment Rate shows 0.33 for account with 1/3 seats assigned, but should be 33.33%.\n",
        "\n",
        "**Impact**: All metrics need conversion to percentage format for proper business interpretation.\n",
        "\n",
        "### Data Quality Validation\n",
        "\n",
        "**Structure**: Clean 8-column format with 238K records per month.\n",
        "\n",
        "**Completeness**: No missing values or data quality issues identified.\n",
        "\n",
        "### Next Step Strategy\n",
        "\n",
        "We must standardize metric format to percentage before proceeding with any baseline analysis."
      ],
      "metadata": {
        "id": "Kfe7lPrKQpnz"
      }
    },
    {
      "cell_type": "markdown",
      "source": [
        "\n",
        "\n",
        "---\n",
        "\n"
      ],
      "metadata": {
        "id": "5SdQpOW2Qq0J"
      }
    },
    {
      "cell_type": "markdown",
      "source": [
        "## Step 5 - Metric Format Standardization\n",
        "\n",
        "Metrics are in decimal format and need conversion to percentage format for clearer business interpretation.\n",
        "\n",
        "**Correction Required**: Multiply Assignment Rate and Utilization Rate by 100 to convert from decimal (0.33) to percentage (33%) format.\n",
        "\n",
        "**Why This Matters**: Stakeholders expect percentage format for reporting and benchmarking.\n",
        "\n",
        "**Process**: Convert all monthly datasets and combine into single comprehensive dataset for analysis."
      ],
      "metadata": {
        "id": "B3lJFBRKQrU7"
      }
    },
    {
      "cell_type": "markdown",
      "source": [
        "\n",
        "\n",
        "---\n",
        "\n"
      ],
      "metadata": {
        "id": "mhay5CfZQtx-"
      }
    },
    {
      "cell_type": "code",
      "source": [
        "# Step 5: Metric Format Standardization\n",
        "print(\"Metric Format Correction\")\n",
        "print(\"=\" * 25)\n",
        "\n",
        "# Correct metrics format for all monthly datasets\n",
        "monthly_datasets = [month_05_df, month_06_df, month_07_df, month_08_df]\n",
        "corrected_datasets = []\n",
        "\n",
        "for i, df in enumerate(monthly_datasets, 5):\n",
        "    df_corrected = df.copy()\n",
        "    # Convert decimal format to percentage format\n",
        "    df_corrected['ASSIGNMENT_RATE'] = df_corrected['ASSIGNMENT_RATE'] * 100\n",
        "    df_corrected['UTILIZATION_RATE'] = df_corrected['UTILIZATION_RATE'] * 100\n",
        "    corrected_datasets.append(df_corrected)\n",
        "    print(f\"Month {i}: Corrected {len(df_corrected):,} records\")\n",
        "\n",
        "# Combine all monthly data\n",
        "combined_df = pd.concat(corrected_datasets, ignore_index=True)\n",
        "print(f\"\\nCombined Dataset:\")\n",
        "print(f\"Total records: {len(combined_df):,}\")\n",
        "print(f\"Unique accounts: {combined_df['ACCOUNT_ID'].nunique():,}\")\n",
        "print(f\"Date range: {combined_df['MONTH'].min()} to {combined_df['MONTH'].max()}\")\n",
        "\n",
        "# Verify correction\n",
        "print(f\"\\nCorrected Metric Ranges:\")\n",
        "print(f\"Assignment Rate: {combined_df['ASSIGNMENT_RATE'].min():.1f}% to {combined_df['UTILIZATION_RATE'].max():.1f}%\")\n",
        "print(f\"Utilization Rate: {combined_df['UTILIZATION_RATE'].min():.1f}% to {combined_df['UTILIZATION_RATE'].max():.1f}%\")"
      ],
      "metadata": {
        "id": "gPyPvY9bQvJI",
        "colab": {
          "base_uri": "https://localhost:8080/"
        },
        "outputId": "f08041ab-0121-49ec-d545-d614416fd073"
      },
      "execution_count": 18,
      "outputs": [
        {
          "output_type": "stream",
          "name": "stdout",
          "text": [
            "Metric Format Correction\n",
            "=========================\n",
            "Month 5: Corrected 238,730 records\n",
            "Month 6: Corrected 238,633 records\n",
            "Month 7: Corrected 239,212 records\n",
            "Month 8: Corrected 238,458 records\n",
            "\n",
            "Combined Dataset:\n",
            "Total records: 955,033\n",
            "Unique accounts: 253,079\n",
            "Date range: 2024-05 to 2024-08\n",
            "\n",
            "Corrected Metric Ranges:\n",
            "Assignment Rate: 0.0% to 4600.0%\n",
            "Utilization Rate: 0.0% to 4600.0%\n"
          ]
        }
      ]
    },
    {
      "cell_type": "markdown",
      "source": [
        "\n",
        "\n",
        "---\n",
        "\n"
      ],
      "metadata": {
        "id": "G4npCHAvQ9Mf"
      }
    },
    {
      "cell_type": "markdown",
      "source": [
        "## Step 5 Results\n",
        "\n",
        "### Dataset Consolidation Success\n",
        "\n",
        "**Combined Dataset**: 955K records across 253K unique accounts spanning 4 months.\n",
        "\n",
        "**Format Correction**: Assignment Rate now properly ranges 0-100%, enabling accurate business interpretation.\n",
        "\n",
        "### Anomaly Detection\n",
        "\n",
        "**Utilization Rate Issue**: Maximum of 4,600% indicates data anomalies that need investigation.\n",
        "\n",
        "**Expected Range**: Utilization Rate should not exceed 100% (cannot have more active users than purchased seats).\n",
        "\n",
        "**Root Cause**: Likely calculation errors in source data or edge cases requiring business rule clarification.\n",
        "\n",
        "### Data Quality Impact\n",
        "\n",
        "**Assignment Rate**: Clean range (0-100%) confirms successful standardization.\n",
        "\n",
        "**Utilization Rate**: Requires outlier investigation before baseline analysis.\n",
        "\n",
        "### Next Step Strategy\n",
        "\n",
        "Investigate Utilization Rate outliers to understand business rules and clean data for accurate baseline analysis."
      ],
      "metadata": {
        "id": "RWi0UEcfQ99P"
      }
    },
    {
      "cell_type": "markdown",
      "source": [
        "\n",
        "\n",
        "---\n",
        "\n"
      ],
      "metadata": {
        "id": "H4RiAbkfQ-7F"
      }
    },
    {
      "cell_type": "markdown",
      "source": [
        "## Phase 2: Baseline Analysis\n",
        "\n",
        "### Step 6 - Outlier Investigation & Data Cleaning\n",
        "\n",
        "Before establishing baselines, we must investigate the Utilization Rate outliers (>100%) to ensure accurate analysis.\n",
        "\n",
        "**Business Logic**: Utilization Rate should not exceed 100% since it represents active users as a percentage of purchased seats.\n",
        "\n",
        "**Investigation Goal**: Understand the source of high utilization rates and establish appropriate data cleaning rules.\n",
        "\n",
        "**Approach**: Examine the distribution and characteristics of outlier records to determine if they represent data errors or valid business scenarios."
      ],
      "metadata": {
        "id": "MaYuH2LtRBNZ"
      }
    },
    {
      "cell_type": "markdown",
      "source": [
        "\n",
        "\n",
        "---\n",
        "\n"
      ],
      "metadata": {
        "id": "TMNUkKD6RCGO"
      }
    },
    {
      "cell_type": "code",
      "source": [
        "# Step 6: Utilization Rate Outlier Investigation\n",
        "print(\"Utilization Rate Outlier Analysis\")\n",
        "print(\"=\" * 35)\n",
        "\n",
        "# Analyze utilization rate distribution\n",
        "print(\"Utilization Rate Distribution:\")\n",
        "print(f\"Mean: {combined_df['UTILIZATION_RATE'].mean():.1f}%\")\n",
        "print(f\"Median: {combined_df['UTILIZATION_RATE'].median():.1f}%\")\n",
        "print(f\"95th percentile: {combined_df['UTILIZATION_RATE'].quantile(0.95):.1f}%\")\n",
        "print(f\"99th percentile: {combined_df['UTILIZATION_RATE'].quantile(0.99):.1f}%\")\n",
        "print(f\"Maximum: {combined_df['UTILIZATION_RATE'].max():.1f}%\")\n",
        "\n",
        "# Count outliers\n",
        "outliers_100 = combined_df[combined_df['UTILIZATION_RATE'] > 100]\n",
        "outliers_200 = combined_df[combined_df['UTILIZATION_RATE'] > 200]\n",
        "\n",
        "print(f\"\\nOutlier Analysis:\")\n",
        "print(f\"Records >100% Utilization: {len(outliers_100):,} ({len(outliers_100)/len(combined_df)*100:.2f}%)\")\n",
        "print(f\"Records >200% Utilization: {len(outliers_200):,} ({len(outliers_200)/len(combined_df)*100:.2f}%)\")\n",
        "\n",
        "# Examine sample outliers\n",
        "print(f\"\\nSample Outlier Records:\")\n",
        "sample_outliers = outliers_100.head(5)[['SEATS_PURCHASED', 'SEATS_ASSIGNED', 'MAU', 'ASSIGNMENT_RATE', 'UTILIZATION_RATE']]\n",
        "print(sample_outliers)\n",
        "\n",
        "# Check if outliers follow patterns\n",
        "print(f\"\\nOutlier Characteristics:\")\n",
        "print(f\"Average seats purchased (outliers): {outliers_100['SEATS_PURCHASED'].mean():.1f}\")\n",
        "print(f\"Average seats purchased (all data): {combined_df['SEATS_PURCHASED'].mean():.1f}\")"
      ],
      "metadata": {
        "id": "DgzpfeduRD68",
        "colab": {
          "base_uri": "https://localhost:8080/"
        },
        "outputId": "23d71482-b74a-4de3-8484-432cc0f719d1"
      },
      "execution_count": 19,
      "outputs": [
        {
          "output_type": "stream",
          "name": "stdout",
          "text": [
            "Utilization Rate Outlier Analysis\n",
            "===================================\n",
            "Utilization Rate Distribution:\n",
            "Mean: 76.0%\n",
            "Median: 100.0%\n",
            "95th percentile: 100.0%\n",
            "99th percentile: 175.0%\n",
            "Maximum: 4600.0%\n",
            "\n",
            "Outlier Analysis:\n",
            "Records >100% Utilization: 25,648 (2.69%)\n",
            "Records >200% Utilization: 2,584 (0.27%)\n",
            "\n",
            "Sample Outlier Records:\n",
            "     SEATS_PURCHASED  SEATS_ASSIGNED  MAU  ASSIGNMENT_RATE  UTILIZATION_RATE\n",
            "114               61              61   71            100.0             116.0\n",
            "146               10              10   12            100.0             120.0\n",
            "149               10              10   11            100.0             110.0\n",
            "152                5               4    6             80.0             120.0\n",
            "172                2               2    4            100.0             200.0\n",
            "\n",
            "Outlier Characteristics:\n",
            "Average seats purchased (outliers): 6.9\n",
            "Average seats purchased (all data): 4.0\n"
          ]
        }
      ]
    },
    {
      "cell_type": "markdown",
      "source": [
        "\n",
        "\n",
        "---\n",
        "\n"
      ],
      "metadata": {
        "id": "laDPv-FcROMR"
      }
    },
    {
      "cell_type": "markdown",
      "source": [
        "## Step 6 Results\n",
        "\n",
        "### Outlier Analysis Findings\n",
        "\n",
        "**Scale of Issue**: 2.69% of records show >100% utilization, with 0.27% showing >200% utilization.\n",
        "\n",
        "**Business Logic Violation**: Sample shows 61 seats purchased but 71 monthly active users - impossible under normal licensing.\n",
        "\n",
        "**Pattern Recognition**: Outliers tend to be larger customers (6.9 vs 4.0 average seats), suggesting this may reflect shared/concurrent licensing scenarios.\n",
        "\n",
        "### Possible Explanations\n",
        "\n",
        "**Seat Sharing**: Multiple users may share login credentials or floating licenses.\n",
        "\n",
        "**Concurrent Usage**: Some license types may allow multiple simultaneous users per seat.\n",
        "\n",
        "**Data Collection Issues**: MAU calculation may include trial users or cross-product usage.\n",
        "\n",
        "### Distribution Insights\n",
        "\n",
        "**Healthy Median**: 100% utilization median indicates strong product adoption.\n",
        "\n",
        "**Reasonable Mean**: 76% average utilization (excluding outliers) suggests good baseline performance.\n",
        "\n",
        "### Next Step Strategy\n",
        "\n",
        "For baseline analysis, we'll cap Utilization Rate at 100% to ensure meaningful business interpretation while noting this data quality issue for stakeholder discussion."
      ],
      "metadata": {
        "id": "fy_25r24RO13"
      }
    },
    {
      "cell_type": "markdown",
      "source": [
        "\n",
        "\n",
        "---\n",
        "\n"
      ],
      "metadata": {
        "id": "e0Wd-f69RQLm"
      }
    },
    {
      "cell_type": "markdown",
      "source": [
        "## Step 7 - APAC Baseline Metrics Calculation\n",
        "\n",
        "Now we establish the foundational benchmarks that stakeholders requested - the baseline Assignment Rate and Utilization Rate for APAC customers.\n",
        "\n",
        "**Approach**: Calculate comprehensive statistics including mean, median, and quartiles to provide complete baseline picture.\n",
        "\n",
        "**Data Treatment**: Cap Utilization Rate at 100% for meaningful business interpretation while preserving original Assignment Rate data.\n",
        "\n",
        "**Goal**: Provide stakeholders with definitive APAC performance benchmarks for strategic planning."
      ],
      "metadata": {
        "id": "MXC3gc6iRSkp"
      }
    },
    {
      "cell_type": "markdown",
      "source": [
        "\n",
        "\n",
        "---\n",
        "\n"
      ],
      "metadata": {
        "id": "7yhyR3z-RVSL"
      }
    },
    {
      "cell_type": "code",
      "source": [
        "# Step 7: APAC Baseline Metrics Calculation\n",
        "print(\"APAC Baseline Performance Metrics\")\n",
        "print(\"=\" * 35)\n",
        "\n",
        "# Create cleaned dataset for analysis\n",
        "analysis_df = combined_df.copy()\n",
        "# Cap utilization rate at 100% for business interpretation\n",
        "analysis_df['UTILIZATION_RATE_CAPPED'] = analysis_df['UTILIZATION_RATE'].clip(upper=100)\n",
        "\n",
        "# Calculate baseline statistics\n",
        "def calculate_baseline_stats(data, metric_name):\n",
        "    stats = {\n",
        "        'Mean': data.mean(),\n",
        "        'Median': data.median(),\n",
        "        'Q1': data.quantile(0.25),\n",
        "        'Q3': data.quantile(0.75),\n",
        "        'Std Dev': data.std(),\n",
        "        'Min': data.min(),\n",
        "        'Max': data.max()\n",
        "    }\n",
        "\n",
        "    print(f\"\\n{metric_name} Baseline:\")\n",
        "    for stat, value in stats.items():\n",
        "        print(f\"  {stat}: {value:.1f}%\")\n",
        "\n",
        "    return stats\n",
        "\n",
        "# Calculate baselines for both metrics\n",
        "assignment_baseline = calculate_baseline_stats(analysis_df['ASSIGNMENT_RATE'], \"Assignment Rate\")\n",
        "utilization_baseline = calculate_baseline_stats(analysis_df['UTILIZATION_RATE_CAPPED'], \"Utilization Rate (Capped)\")\n",
        "\n",
        "print(f\"\\nKey APAC Benchmarks:\")\n",
        "print(f\"Average Assignment Rate: {assignment_baseline['Mean']:.1f}%\")\n",
        "print(f\"Average Utilization Rate: {utilization_baseline['Mean']:.1f}%\")\n",
        "print(f\"Median Assignment Rate: {assignment_baseline['Median']:.1f}%\")\n",
        "print(f\"Median Utilization Rate: {utilization_baseline['Median']:.1f}%\")"
      ],
      "metadata": {
        "id": "-j2jl0KLRZvc",
        "colab": {
          "base_uri": "https://localhost:8080/"
        },
        "outputId": "1e9243b3-f99e-4ef7-bb3a-3208ec8e28f8"
      },
      "execution_count": 20,
      "outputs": [
        {
          "output_type": "stream",
          "name": "stdout",
          "text": [
            "APAC Baseline Performance Metrics\n",
            "===================================\n",
            "\n",
            "Assignment Rate Baseline:\n",
            "  Mean: 92.9%\n",
            "  Median: 100.0%\n",
            "  Q1: 100.0%\n",
            "  Q3: 100.0%\n",
            "  Std Dev: 20.0%\n",
            "  Min: 0.0%\n",
            "  Max: 100.0%\n",
            "\n",
            "Utilization Rate (Capped) Baseline:\n",
            "  Mean: 74.0%\n",
            "  Median: 100.0%\n",
            "  Q1: 50.0%\n",
            "  Q3: 100.0%\n",
            "  Std Dev: 37.9%\n",
            "  Min: 0.0%\n",
            "  Max: 100.0%\n",
            "\n",
            "Key APAC Benchmarks:\n",
            "Average Assignment Rate: 92.9%\n",
            "Average Utilization Rate: 74.0%\n",
            "Median Assignment Rate: 100.0%\n",
            "Median Utilization Rate: 100.0%\n"
          ]
        }
      ]
    },
    {
      "cell_type": "markdown",
      "source": [
        "\n",
        "\n",
        "---\n",
        "\n"
      ],
      "metadata": {
        "id": "zTYeWZgORgfX"
      }
    },
    {
      "cell_type": "markdown",
      "source": [
        "## Step 7 Results - APAC Baseline Benchmarks\n",
        "\n",
        "### Key Performance Baselines\n",
        "\n",
        "**Assignment Rate**: 92.9% average, 100% median - Excellent onboarding performance\n",
        "\n",
        "**Utilization Rate**: 74.0% average, 100% median - Strong active usage adoption\n",
        "\n",
        "### Distribution Insights\n",
        "\n",
        "**Assignment Rate Excellence**: 75% of customers achieve 100% assignment (Q1-Q3 range), indicating highly effective onboarding processes.\n",
        "\n",
        "**Utilization Rate Spread**: Higher variability (37.9% std dev) with Q1 at 50%, suggesting opportunities for usage optimization in lower-performing segments.\n",
        "\n",
        "### Business Interpretation\n",
        "\n",
        "**Onboarding Success**: 92.9% assignment rate demonstrates effective customer success and admin engagement.\n",
        "\n",
        "**Usage Achievement**: 74% utilization rate indicates strong product value realization across APAC.\n",
        "\n",
        "**Benchmark Quality**: Both metrics exceed typical industry standards for B2B software adoption.\n",
        "\n",
        "### Strategic Implications\n",
        "\n",
        "**High Performance Base**: APAC shows strong fundamentals with room for utilization improvement in bottom quartile.\n",
        "\n",
        "**Focus Area**: 25% of customers below 50% utilization represent primary optimization opportunity.\n",
        "\n",
        "### Next Step Strategy\n",
        "\n",
        "Analyze usage patterns by customer size to understand how performance varies across different segments."
      ],
      "metadata": {
        "id": "Rs2cg8AbRhZd"
      }
    },
    {
      "cell_type": "markdown",
      "source": [
        "\n",
        "\n",
        "---\n",
        "\n"
      ],
      "metadata": {
        "id": "NqOZvXcQRoXp"
      }
    },
    {
      "cell_type": "markdown",
      "source": [
        "## Phase 3: Customer Segmentation Analysis\n",
        "\n",
        "### Step 8 - Customer Size Band Creation\n",
        "\n",
        "Following stakeholder guidance, we'll create customer size bands based on seat count to analyze usage patterns across different customer segments.\n",
        "\n",
        "**Size Band Strategy**: Group customers into 8 distinct segments from 1 seat to 500+ seats to reveal size-specific usage behaviors.\n",
        "\n",
        "**Business Rationale**: Different sized customers have distinct needs, resources, and usage patterns that require tailored strategies.\n",
        "\n",
        "**Analysis Goal**: Identify how Assignment Rate and Utilization Rate vary by customer size to inform segmented approaches."
      ],
      "metadata": {
        "id": "Ts_2mdS2RuS2"
      }
    },
    {
      "cell_type": "markdown",
      "source": [
        "\n",
        "\n",
        "---\n",
        "\n"
      ],
      "metadata": {
        "id": "1w1e5iveRvT8"
      }
    },
    {
      "cell_type": "code",
      "source": [
        "# Step 8: Customer Size Band Creation & Analysis\n",
        "print(\"Customer Size Band Analysis\")\n",
        "print(\"=\" * 30)\n",
        "\n",
        "# Create size band function as specified by stakeholders\n",
        "def create_size_band(seats):\n",
        "    if seats == 1:\n",
        "        return \"1 Seat\"\n",
        "    elif 2 <= seats <= 5:\n",
        "        return \"2-5 Seats\"\n",
        "    elif 6 <= seats <= 10:\n",
        "        return \"6-10 Seats\"\n",
        "    elif 11 <= seats <= 50:\n",
        "        return \"11-50 Seats\"\n",
        "    elif 51 <= seats <= 100:\n",
        "        return \"51-100 Seats\"\n",
        "    elif 101 <= seats <= 200:\n",
        "        return \"101-200 Seats\"\n",
        "    elif 201 <= seats <= 500:\n",
        "        return \"201-500 Seats\"\n",
        "    else:\n",
        "        return \"500+ Seats\"\n",
        "\n",
        "# Apply size band classification\n",
        "analysis_df['CUSTOMER_SIZE_BAND'] = analysis_df['SEATS_PURCHASED'].apply(create_size_band)\n",
        "\n",
        "# Analyze distribution\n",
        "size_dist = analysis_df['CUSTOMER_SIZE_BAND'].value_counts()\n",
        "print(\"Customer Size Band Distribution:\")\n",
        "for band in [\"1 Seat\", \"2-5 Seats\", \"6-10 Seats\", \"11-50 Seats\", \"51-100 Seats\", \"101-200 Seats\", \"201-500 Seats\", \"500+ Seats\"]:\n",
        "    count = size_dist.get(band, 0)\n",
        "    pct = count / len(analysis_df) * 100\n",
        "    print(f\"{band}: {count:,} ({pct:.1f}%)\")\n",
        "\n",
        "print(f\"\\nTotal records: {len(analysis_df):,}\")\n",
        "print(f\"Average seats per customer: {analysis_df['SEATS_PURCHASED'].mean():.1f}\")"
      ],
      "metadata": {
        "id": "xlqfMgGQRwEU",
        "colab": {
          "base_uri": "https://localhost:8080/"
        },
        "outputId": "e0109fe0-7536-4d89-8a68-8769a53c03e6"
      },
      "execution_count": 21,
      "outputs": [
        {
          "output_type": "stream",
          "name": "stdout",
          "text": [
            "Customer Size Band Analysis\n",
            "==============================\n",
            "Customer Size Band Distribution:\n",
            "1 Seat: 524,181 (54.9%)\n",
            "2-5 Seats: 291,458 (30.5%)\n",
            "6-10 Seats: 71,956 (7.5%)\n",
            "11-50 Seats: 60,550 (6.3%)\n",
            "51-100 Seats: 4,908 (0.5%)\n",
            "101-200 Seats: 1,655 (0.2%)\n",
            "201-500 Seats: 258 (0.0%)\n",
            "500+ Seats: 67 (0.0%)\n",
            "\n",
            "Total records: 955,033\n",
            "Average seats per customer: 4.0\n"
          ]
        }
      ]
    },
    {
      "cell_type": "markdown",
      "source": [
        "\n",
        "\n",
        "---\n",
        "\n"
      ],
      "metadata": {
        "id": "6P_DDEnlR0xS"
      }
    },
    {
      "cell_type": "markdown",
      "source": [
        "## Step 8 Results - Customer Size Distribution\n",
        "\n",
        "### Customer Size Profile\n",
        "\n",
        "**Small Business Dominance**: 85.4% of customers have 1-5 seats, indicating APAC is primarily a small business market.\n",
        "\n",
        "**Enterprise Presence**: Only 0.7% have 51+ seats, but these represent significant revenue concentration.\n",
        "\n",
        "**Mid-Market Gap**: 13.8% in 6-50 seat range suggests untapped growth opportunity in mid-market segment.\n",
        "\n",
        "### Market Composition Insights\n",
        "\n",
        "**Micro Businesses**: 54.9% single-seat customers represent individual users or very small teams.\n",
        "\n",
        "**Small Teams**: 30.5% in 2-5 seat range indicate small business adoption.\n",
        "\n",
        "**Growth Opportunity**: Low enterprise penetration (0.7%) suggests significant upside potential.\n",
        "\n",
        "### Strategic Implications\n",
        "\n",
        "**Volume vs Value**: Large customer base in small segments vs. concentrated value in enterprise accounts.\n",
        "\n",
        "**Segmented Approach**: Different customer sizes likely require distinct success strategies and usage patterns.\n",
        "\n",
        "**Market Maturity**: Heavy skew toward small customers suggests early-stage market development in APAC.\n",
        "\n",
        "### Next Step Strategy\n",
        "\n",
        "Analyze Assignment Rate and Utilization Rate performance across these size bands to identify size-specific usage patterns and optimization opportunities."
      ],
      "metadata": {
        "id": "rowjAqhvR2un"
      }
    },
    {
      "cell_type": "markdown",
      "source": [
        "\n",
        "\n",
        "---\n",
        "\n"
      ],
      "metadata": {
        "id": "XHcyUt2zSLWj"
      }
    },
    {
      "cell_type": "markdown",
      "source": [
        "## Step 9 - Size Band Performance Analysis\n",
        "\n",
        "Now we examine how Assignment Rate and Utilization Rate vary across customer size segments to identify patterns and opportunities.\n",
        "\n",
        "**Hypothesis**: Larger customers may have different usage patterns due to more complex organizations, dedicated admins, and diverse user needs.\n",
        "\n",
        "**Key Questions**:\n",
        "- Do larger customers achieve higher assignment rates?\n",
        "- How does utilization vary by customer size?\n",
        "- Which size segments represent the best optimization opportunities?\n",
        "\n",
        "**Analysis Approach**: Calculate performance metrics by size band and identify trends across the customer spectrum."
      ],
      "metadata": {
        "id": "Dk3sbMEhSMIQ"
      }
    },
    {
      "cell_type": "markdown",
      "source": [
        "\n",
        "\n",
        "---\n",
        "\n"
      ],
      "metadata": {
        "id": "ShrYnCHXSO2r"
      }
    },
    {
      "cell_type": "code",
      "source": [
        "# Step 9: Performance Analysis by Customer Size Band\n",
        "print(\"Performance Metrics by Customer Size Band\")\n",
        "print(\"=\" * 45)\n",
        "\n",
        "# Analyze performance by size band\n",
        "size_analysis = analysis_df.groupby('CUSTOMER_SIZE_BAND').agg({\n",
        "    'ASSIGNMENT_RATE': ['mean', 'median', 'std', 'count'],\n",
        "    'UTILIZATION_RATE_CAPPED': ['mean', 'median', 'std'],\n",
        "    'SEATS_PURCHASED': ['sum', 'mean'],\n",
        "    'ACCOUNT_ID': ['nunique']\n",
        "}).round(1)\n",
        "\n",
        "# Flatten column names\n",
        "size_analysis.columns = ['_'.join(col).strip() for col in size_analysis.columns]\n",
        "\n",
        "# Define proper order for size bands\n",
        "size_order = [\"1 Seat\", \"2-5 Seats\", \"6-10 Seats\", \"11-50 Seats\",\n",
        "              \"51-100 Seats\", \"101-200 Seats\", \"201-500 Seats\", \"500+ Seats\"]\n",
        "\n",
        "print(\"Size Band Performance Summary:\")\n",
        "print(\"=\" * 50)\n",
        "for band in size_order:\n",
        "    if band in size_analysis.index:\n",
        "        row = size_analysis.loc[band]\n",
        "        print(f\"\\n{band}:\")\n",
        "        print(f\"  Records: {row['ASSIGNMENT_RATE_count']:,.0f}\")\n",
        "        print(f\"  Unique Accounts: {row['ACCOUNT_ID_nunique']:,.0f}\")\n",
        "        print(f\"  Avg Assignment Rate: {row['ASSIGNMENT_RATE_mean']:.1f}%\")\n",
        "        print(f\"  Avg Utilization Rate: {row['UTILIZATION_RATE_CAPPED_mean']:.1f}%\")\n",
        "        print(f\"  Total Seats: {row['SEATS_PURCHASED_sum']:,.0f}\")\n",
        "\n",
        "# Summary comparison\n",
        "print(f\"\\n\\nKey Trends:\")\n",
        "small_assignment = size_analysis.loc[\"1 Seat\", 'ASSIGNMENT_RATE_mean']\n",
        "large_assignment = size_analysis.loc[\"500+ Seats\", 'ASSIGNMENT_RATE_mean'] if \"500+ Seats\" in size_analysis.index else 0\n",
        "print(f\"Assignment Rate: 1 Seat ({small_assignment:.1f}%) vs 500+ Seats ({large_assignment:.1f}%)\")\n",
        "\n",
        "small_utilization = size_analysis.loc[\"1 Seat\", 'UTILIZATION_RATE_CAPPED_mean']\n",
        "large_utilization = size_analysis.loc[\"500+ Seats\", 'UTILIZATION_RATE_CAPPED_mean'] if \"500+ Seats\" in size_analysis.index else 0\n",
        "print(f\"Utilization Rate: 1 Seat ({small_utilization:.1f}%) vs 500+ Seats ({large_utilization:.1f}%)\")"
      ],
      "metadata": {
        "id": "Demfj-hJSPfb",
        "colab": {
          "base_uri": "https://localhost:8080/"
        },
        "outputId": "61b9d79a-9408-4710-de2f-8683a6dc28e4"
      },
      "execution_count": 22,
      "outputs": [
        {
          "output_type": "stream",
          "name": "stdout",
          "text": [
            "Performance Metrics by Customer Size Band\n",
            "=============================================\n",
            "Size Band Performance Summary:\n",
            "==================================================\n",
            "\n",
            "1 Seat:\n",
            "  Records: 524,181\n",
            "  Unique Accounts: 144,137\n",
            "  Avg Assignment Rate: 98.3%\n",
            "  Avg Utilization Rate: 77.0%\n",
            "  Total Seats: 524,181\n",
            "\n",
            "2-5 Seats:\n",
            "  Records: 291,458\n",
            "  Unique Accounts: 80,404\n",
            "  Avg Assignment Rate: 85.5%\n",
            "  Avg Utilization Rate: 68.8%\n",
            "  Total Seats: 842,087\n",
            "\n",
            "6-10 Seats:\n",
            "  Records: 71,956\n",
            "  Unique Accounts: 20,716\n",
            "  Avg Assignment Rate: 87.4%\n",
            "  Avg Utilization Rate: 72.9%\n",
            "  Total Seats: 545,339\n",
            "\n",
            "11-50 Seats:\n",
            "  Records: 60,550\n",
            "  Unique Accounts: 16,506\n",
            "  Avg Assignment Rate: 88.9%\n",
            "  Avg Utilization Rate: 75.0%\n",
            "  Total Seats: 1,204,219\n",
            "\n",
            "51-100 Seats:\n",
            "  Records: 4,908\n",
            "  Unique Accounts: 1,377\n",
            "  Avg Assignment Rate: 88.1%\n",
            "  Avg Utilization Rate: 73.8%\n",
            "  Total Seats: 341,628\n",
            "\n",
            "101-200 Seats:\n",
            "  Records: 1,655\n",
            "  Unique Accounts: 466\n",
            "  Avg Assignment Rate: 88.3%\n",
            "  Avg Utilization Rate: 73.1%\n",
            "  Total Seats: 224,142\n",
            "\n",
            "201-500 Seats:\n",
            "  Records: 258\n",
            "  Unique Accounts: 76\n",
            "  Avg Assignment Rate: 86.7%\n",
            "  Avg Utilization Rate: 73.9%\n",
            "  Total Seats: 76,120\n",
            "\n",
            "500+ Seats:\n",
            "  Records: 67\n",
            "  Unique Accounts: 18\n",
            "  Avg Assignment Rate: 58.5%\n",
            "  Avg Utilization Rate: 46.4%\n",
            "  Total Seats: 43,261\n",
            "\n",
            "\n",
            "Key Trends:\n",
            "Assignment Rate: 1 Seat (98.3%) vs 500+ Seats (58.5%)\n",
            "Utilization Rate: 1 Seat (77.0%) vs 500+ Seats (46.4%)\n"
          ]
        }
      ]
    },
    {
      "cell_type": "markdown",
      "source": [
        "\n",
        "\n",
        "---\n",
        "\n"
      ],
      "metadata": {
        "id": "ltaEkyQrSjBH"
      }
    },
    {
      "cell_type": "markdown",
      "source": [
        "## Step 9 Results - Critical Size-Based Performance Patterns\n",
        "\n",
        "### Striking Performance Inversion\n",
        "\n",
        "**Single-Seat Excellence**: 1-seat customers achieve 98.3% assignment and 77.0% utilization - highest performance across all segments.\n",
        "\n",
        "**Enterprise Challenge**: 500+ seat customers show dramatically lower performance (58.5% assignment, 46.4% utilization) - a 40-point gap.\n",
        "\n",
        "**Mid-Market Consistency**: 2-50 seat customers cluster around 85-89% assignment and 69-75% utilization, showing stable performance.\n",
        "\n",
        "### Key Business Insights\n",
        "\n",
        "**Complexity Impact**: Performance inversely correlates with customer size - larger organizations struggle with adoption.\n",
        "\n",
        "**Admin Burden**: Enterprise customers likely face administrative complexity in user onboarding and management.\n",
        "\n",
        "**Opportunity Size**: 500+ seat customers represent significant unutilized potential (43K seats with low performance).\n",
        "\n",
        "### Strategic Implications\n",
        "\n",
        "**Enterprise Focus Required**: Largest customers need dedicated success programs to improve 40-point performance gap.\n",
        "\n",
        "**Small Business Strength**: Single-seat model works exceptionally well, suggesting product-market fit.\n",
        "\n",
        "**Mid-Market Sweet Spot**: 2-50 seat customers show balanced performance and represent scalable growth opportunity.\n",
        "\n",
        "### Next Step Strategy\n",
        "\n",
        "Analyze performance patterns by customer tenure to understand how usage evolves over the customer lifecycle."
      ],
      "metadata": {
        "id": "P9LuURqkSjy-"
      }
    },
    {
      "cell_type": "markdown",
      "source": [
        "\n",
        "\n",
        "---\n",
        "\n"
      ],
      "metadata": {
        "id": "-wgquzBHSk2b"
      }
    },
    {
      "cell_type": "markdown",
      "source": [
        "## Step 10 - Customer Tenure Performance Analysis\n",
        "\n",
        "Understanding how usage patterns evolve as customers mature with Autodesk provides insights into the customer journey and lifecycle optimization opportunities.\n",
        "\n",
        "**Business Questions**:\n",
        "- Do veteran customers have better usage patterns than new customers?\n",
        "- How does performance change through the customer lifecycle?\n",
        "- What can we learn about onboarding effectiveness over time?\n",
        "\n",
        "**Approach**: Merge usage data with account age information and analyze performance trends across tenure segments.\n",
        "\n",
        "**Expected Insights**: Customer maturity should correlate with improved usage patterns as customers become more familiar with products and processes."
      ],
      "metadata": {
        "id": "S8PZK0BTSlia"
      }
    },
    {
      "cell_type": "markdown",
      "source": [
        "\n",
        "\n",
        "---\n",
        "\n"
      ],
      "metadata": {
        "id": "n_NDX0cASnrX"
      }
    },
    {
      "cell_type": "code",
      "source": [
        "# Step 10: Performance Analysis by Customer Tenure\n",
        "print(\"Performance Analysis by Customer Tenure\")\n",
        "print(\"=\" * 40)\n",
        "\n",
        "# Merge usage data with account dimension data\n",
        "tenure_df = analysis_df.merge(\n",
        "    account_age_performance[['ACCOUNT_ID', 'ACCOUNT_AGE']],\n",
        "    on='ACCOUNT_ID',\n",
        "    how='left'\n",
        ")\n",
        "\n",
        "print(f\"Records with tenure data: {tenure_df['ACCOUNT_AGE'].notna().sum():,}\")\n",
        "print(f\"Records missing tenure data: {tenure_df['ACCOUNT_AGE'].isna().sum():,}\")\n",
        "\n",
        "# Analyze performance by tenure (exclude missing data)\n",
        "tenure_clean = tenure_df.dropna(subset=['ACCOUNT_AGE'])\n",
        "\n",
        "tenure_analysis = tenure_clean.groupby('ACCOUNT_AGE').agg({\n",
        "    'ASSIGNMENT_RATE': ['mean', 'median', 'std', 'count'],\n",
        "    'UTILIZATION_RATE_CAPPED': ['mean', 'median', 'std'],\n",
        "    'ACCOUNT_ID': ['nunique']\n",
        "}).round(1)\n",
        "\n",
        "tenure_analysis.columns = ['_'.join(col).strip() for col in tenure_analysis.columns]\n",
        "\n",
        "# Define logical order for tenure segments\n",
        "tenure_order = [\"1st Year - 1st Qtr\", \"1st Year - 2nd Qtr\", \"1st Year - 3rd Qtr\",\n",
        "                \"1st Year - 4th Qtr\", \"1-2 Years\", \"2 Years\", \"2-3 Years\", \"3 Years\", \"3+ Years\"]\n",
        "\n",
        "print(f\"\\nPerformance by Customer Tenure:\")\n",
        "print(\"=\" * 40)\n",
        "for tenure in tenure_order:\n",
        "    if tenure in tenure_analysis.index:\n",
        "        row = tenure_analysis.loc[tenure]\n",
        "        print(f\"\\n{tenure}:\")\n",
        "        print(f\"  Records: {row['ASSIGNMENT_RATE_count']:,.0f}\")\n",
        "        print(f\"  Unique Accounts: {row['ACCOUNT_ID_nunique']:,.0f}\")\n",
        "        print(f\"  Avg Assignment Rate: {row['ASSIGNMENT_RATE_mean']:.1f}%\")\n",
        "        print(f\"  Avg Utilization Rate: {row['UTILIZATION_RATE_CAPPED_mean']:.1f}%\")\n",
        "\n",
        "# Compare new vs veteran customers\n",
        "if \"1st Year - 1st Qtr\" in tenure_analysis.index and \"3+ Years\" in tenure_analysis.index:\n",
        "    new_assignment = tenure_analysis.loc[\"1st Year - 1st Qtr\", 'ASSIGNMENT_RATE_mean']\n",
        "    veteran_assignment = tenure_analysis.loc[\"3+ Years\", 'ASSIGNMENT_RATE_mean']\n",
        "    new_utilization = tenure_analysis.loc[\"1st Year - 1st Qtr\", 'UTILIZATION_RATE_CAPPED_mean']\n",
        "    veteran_utilization = tenure_analysis.loc[\"3+ Years\", 'UTILIZATION_RATE_CAPPED_mean']\n",
        "\n",
        "    print(f\"\\n\\nNew vs Veteran Comparison:\")\n",
        "    print(f\"Assignment Rate: New ({new_assignment:.1f}%) vs Veteran ({veteran_assignment:.1f}%)\")\n",
        "    print(f\"Utilization Rate: New ({new_utilization:.1f}%) vs Veteran ({veteran_utilization:.1f}%)\")"
      ],
      "metadata": {
        "id": "_6UBriiSSogl",
        "colab": {
          "base_uri": "https://localhost:8080/"
        },
        "outputId": "2ca610b5-dce6-43d3-ed85-a17d333b0b0b"
      },
      "execution_count": 23,
      "outputs": [
        {
          "output_type": "stream",
          "name": "stdout",
          "text": [
            "Performance Analysis by Customer Tenure\n",
            "========================================\n",
            "Records with tenure data: 881,822\n",
            "Records missing tenure data: 73,211\n",
            "\n",
            "Performance by Customer Tenure:\n",
            "========================================\n",
            "\n",
            "1st Year - 1st Qtr:\n",
            "  Records: 18\n",
            "  Unique Accounts: 13\n",
            "  Avg Assignment Rate: 94.4%\n",
            "  Avg Utilization Rate: 88.9%\n",
            "\n",
            "1st Year - 2nd Qtr:\n",
            "  Records: 5,836\n",
            "  Unique Accounts: 4,448\n",
            "  Avg Assignment Rate: 94.3%\n",
            "  Avg Utilization Rate: 74.8%\n",
            "\n",
            "1st Year - 3rd Qtr:\n",
            "  Records: 43,812\n",
            "  Unique Accounts: 14,265\n",
            "  Avg Assignment Rate: 94.3%\n",
            "  Avg Utilization Rate: 77.1%\n",
            "\n",
            "1st Year - 4th Qtr:\n",
            "  Records: 51,820\n",
            "  Unique Accounts: 13,032\n",
            "  Avg Assignment Rate: 94.2%\n",
            "  Avg Utilization Rate: 77.0%\n",
            "\n",
            "1-2 Years:\n",
            "  Records: 164,018\n",
            "  Unique Accounts: 41,269\n",
            "  Avg Assignment Rate: 93.5%\n",
            "  Avg Utilization Rate: 76.9%\n",
            "\n",
            "2 Years:\n",
            "  Records: 38,193\n",
            "  Unique Accounts: 9,638\n",
            "  Avg Assignment Rate: 94.2%\n",
            "  Avg Utilization Rate: 76.7%\n",
            "\n",
            "2-3 Years:\n",
            "  Records: 98,771\n",
            "  Unique Accounts: 24,884\n",
            "  Avg Assignment Rate: 93.8%\n",
            "  Avg Utilization Rate: 75.0%\n",
            "\n",
            "3 Years:\n",
            "  Records: 33,076\n",
            "  Unique Accounts: 8,346\n",
            "  Avg Assignment Rate: 93.7%\n",
            "  Avg Utilization Rate: 73.7%\n",
            "\n",
            "3+ Years:\n",
            "  Records: 446,278\n",
            "  Unique Accounts: 112,113\n",
            "  Avg Assignment Rate: 92.4%\n",
            "  Avg Utilization Rate: 74.9%\n",
            "\n",
            "\n",
            "New vs Veteran Comparison:\n",
            "Assignment Rate: New (94.4%) vs Veteran (92.4%)\n",
            "Utilization Rate: New (88.9%) vs Veteran (74.9%)\n"
          ]
        }
      ]
    },
    {
      "cell_type": "markdown",
      "source": [
        "\n",
        "\n",
        "---\n",
        "\n"
      ],
      "metadata": {
        "id": "o-QVzBeaTUfm"
      }
    },
    {
      "cell_type": "markdown",
      "source": [
        "## Step 10 Results - Surprising Tenure Performance Patterns\n",
        "\n",
        "### Counter-Intuitive Findings\n",
        "\n",
        "**New Customer Excellence**: First quarter customers achieve highest performance (94.4% assignment, 88.9% utilization).\n",
        "\n",
        "**Veteran Decline**: 3+ year customers show lower performance (92.4% assignment, 74.9% utilization) - a 14-point utilization gap.\n",
        "\n",
        "**Stable Mid-Journey**: 1-3 year customers maintain consistent performance around 93-94% assignment and 75-77% utilization.\n",
        "\n",
        "### Performance Trajectory Analysis\n",
        "\n",
        "**Early Peak**: Highest engagement occurs in first quarter, suggesting strong initial motivation.\n",
        "\n",
        "**Gradual Decline**: Utilization drops 14 points from new to veteran customers, indicating potential complacency.\n",
        "\n",
        "**Assignment Stability**: Assignment rates remain consistently high (92-94%) across all tenure segments.\n",
        "\n",
        "### Business Implications\n",
        "\n",
        "**Onboarding Success**: New customers achieve excellent adoption, validating current onboarding processes.\n",
        "\n",
        "**Veteran Re-engagement**: Long-term customers need renewal strategies to combat usage decline.\n",
        "\n",
        "**Lifecycle Management**: Clear opportunity to implement veteran customer re-activation programs.\n",
        "\n",
        "### Strategic Insights\n",
        "\n",
        "**Honeymoon Effect**: High initial engagement suggests new customers are highly motivated.\n",
        "\n",
        "**Maturity Plateau**: Veterans may have established routines with lower utilization needs.\n",
        "\n",
        "**Intervention Timing**: Focus re-engagement efforts on 2+ year customers to prevent utilization decline.\n",
        "\n",
        "### Next Step Strategy\n",
        "\n",
        "Analyze regional performance variations across APAC to understand geographic differences in usage patterns."
      ],
      "metadata": {
        "id": "yDVuMYKhTVPT"
      }
    },
    {
      "cell_type": "markdown",
      "source": [
        "\n",
        "\n",
        "---\n",
        "\n"
      ],
      "metadata": {
        "id": "RfUStwJhTWSB"
      }
    },
    {
      "cell_type": "markdown",
      "source": [
        "## Phase 4: Regional Analysis\n",
        "\n",
        "### Step 11 - APAC Regional Performance Comparison\n",
        "\n",
        "Understanding regional variations in usage patterns helps identify market-specific opportunities and challenges across the diverse APAC landscape.\n",
        "\n",
        "**Regional Context**: APAC includes diverse markets with different business cultures, technology adoption rates, and customer maturity levels.\n",
        "\n",
        "**Business Value**: Regional insights enable localized strategies, resource allocation, and market-specific customer success programs.\n",
        "\n",
        "**Analysis Goal**: Compare Assignment Rate and Utilization Rate performance across all six APAC regions to identify top performers and improvement opportunities."
      ],
      "metadata": {
        "id": "KoVgMzfoTXJw"
      }
    },
    {
      "cell_type": "markdown",
      "source": [
        "\n",
        "\n",
        "---\n",
        "\n"
      ],
      "metadata": {
        "id": "n1XyQ8HmTZpE"
      }
    },
    {
      "cell_type": "code",
      "source": [
        "# Step 11: Regional Performance Analysis\n",
        "print(\"APAC Regional Performance Analysis\")\n",
        "print(\"=\" * 35)\n",
        "\n",
        "# Analyze performance by region\n",
        "regional_analysis = analysis_df.groupby('REGION').agg({\n",
        "    'ASSIGNMENT_RATE': ['mean', 'median', 'std', 'count'],\n",
        "    'UTILIZATION_RATE_CAPPED': ['mean', 'median', 'std'],\n",
        "    'SEATS_PURCHASED': ['sum', 'mean'],\n",
        "    'ACCOUNT_ID': ['nunique']\n",
        "}).round(1)\n",
        "\n",
        "regional_analysis.columns = ['_'.join(col).strip() for col in regional_analysis.columns]\n",
        "\n",
        "# Sort by assignment rate for ranking\n",
        "regional_sorted = regional_analysis.sort_values('ASSIGNMENT_RATE_mean', ascending=False)\n",
        "\n",
        "print(\"Regional Performance Ranking (by Assignment Rate):\")\n",
        "print(\"=\" * 55)\n",
        "for i, (region, row) in enumerate(regional_sorted.iterrows(), 1):\n",
        "    print(f\"\\n{i}. {region}:\")\n",
        "    print(f\"   Records: {row['ASSIGNMENT_RATE_count']:,.0f}\")\n",
        "    print(f\"   Unique Accounts: {row['ACCOUNT_ID_nunique']:,.0f}\")\n",
        "    print(f\"   Avg Assignment Rate: {row['ASSIGNMENT_RATE_mean']:.1f}%\")\n",
        "    print(f\"   Avg Utilization Rate: {row['UTILIZATION_RATE_CAPPED_mean']:.1f}%\")\n",
        "    print(f\"   Total Seats: {row['SEATS_PURCHASED_sum']:,.0f}\")\n",
        "    print(f\"   Avg Seats per Customer: {row['SEATS_PURCHASED_mean']:.1f}\")\n",
        "\n",
        "# Calculate regional market share by records\n",
        "print(f\"\\n\\nRegional Market Share (by Records):\")\n",
        "print(\"=\" * 40)\n",
        "total_records = len(analysis_df)\n",
        "for region, row in regional_sorted.iterrows():\n",
        "    share = row['ASSIGNMENT_RATE_count'] / total_records * 100\n",
        "    print(f\"{region}: {share:.1f}%\")\n",
        "\n",
        "# Identify top and bottom performers\n",
        "top_region = regional_sorted.index[0]\n",
        "bottom_region = regional_sorted.index[-1]\n",
        "top_performance = regional_sorted.iloc[0]\n",
        "bottom_performance = regional_sorted.iloc[-1]\n",
        "\n",
        "print(f\"\\n\\nPerformance Gap Analysis:\")\n",
        "print(f\"Top Performer: {top_region} ({top_performance['ASSIGNMENT_RATE_mean']:.1f}% assignment)\")\n",
        "print(f\"Bottom Performer: {bottom_region} ({bottom_performance['ASSIGNMENT_RATE_mean']:.1f}% assignment)\")\n",
        "print(f\"Assignment Rate Gap: {top_performance['ASSIGNMENT_RATE_mean'] - bottom_performance['ASSIGNMENT_RATE_mean']:.1f} percentage points\")\n",
        "print(f\"Utilization Rate Gap: {top_performance['UTILIZATION_RATE_CAPPED_mean'] - bottom_performance['UTILIZATION_RATE_CAPPED_mean']:.1f} percentage points\")"
      ],
      "metadata": {
        "id": "VmBarXtDTaly",
        "colab": {
          "base_uri": "https://localhost:8080/"
        },
        "outputId": "ee6905ca-b3d4-4379-da0b-d0580513e21e"
      },
      "execution_count": 24,
      "outputs": [
        {
          "output_type": "stream",
          "name": "stdout",
          "text": [
            "APAC Regional Performance Analysis\n",
            "===================================\n",
            "Regional Performance Ranking (by Assignment Rate):\n",
            "=======================================================\n",
            "\n",
            "1. ANZ:\n",
            "   Records: 136,052\n",
            "   Unique Accounts: 37,159\n",
            "   Avg Assignment Rate: 97.2%\n",
            "   Avg Utilization Rate: 79.4%\n",
            "   Total Seats: 370,237\n",
            "   Avg Seats per Customer: 2.7\n",
            "\n",
            "2. Japan:\n",
            "   Records: 303,346\n",
            "   Unique Accounts: 78,707\n",
            "   Avg Assignment Rate: 96.1%\n",
            "   Avg Utilization Rate: 75.7%\n",
            "   Total Seats: 1,024,018\n",
            "   Avg Seats per Customer: 3.4\n",
            "\n",
            "3. Asean:\n",
            "   Records: 139,233\n",
            "   Unique Accounts: 36,777\n",
            "   Avg Assignment Rate: 92.6%\n",
            "   Avg Utilization Rate: 76.0%\n",
            "   Total Seats: 803,394\n",
            "   Avg Seats per Customer: 5.8\n",
            "\n",
            "4. INDIA:\n",
            "   Records: 118,702\n",
            "   Unique Accounts: 32,031\n",
            "   Avg Assignment Rate: 91.4%\n",
            "   Avg Utilization Rate: 78.7%\n",
            "   Total Seats: 621,273\n",
            "   Avg Seats per Customer: 5.2\n",
            "\n",
            "5. Korea:\n",
            "   Records: 146,783\n",
            "   Unique Accounts: 39,130\n",
            "   Avg Assignment Rate: 91.3%\n",
            "   Avg Utilization Rate: 72.2%\n",
            "   Total Seats: 444,922\n",
            "   Avg Seats per Customer: 3.0\n",
            "\n",
            "6. Greater China:\n",
            "   Records: 110,917\n",
            "   Unique Accounts: 29,275\n",
            "   Avg Assignment Rate: 82.8%\n",
            "   Avg Utilization Rate: 57.6%\n",
            "   Total Seats: 537,133\n",
            "   Avg Seats per Customer: 4.8\n",
            "\n",
            "\n",
            "Regional Market Share (by Records):\n",
            "========================================\n",
            "ANZ: 14.2%\n",
            "Japan: 31.8%\n",
            "Asean: 14.6%\n",
            "INDIA: 12.4%\n",
            "Korea: 15.4%\n",
            "Greater China: 11.6%\n",
            "\n",
            "\n",
            "Performance Gap Analysis:\n",
            "Top Performer: ANZ (97.2% assignment)\n",
            "Bottom Performer: Greater China (82.8% assignment)\n",
            "Assignment Rate Gap: 14.4 percentage points\n",
            "Utilization Rate Gap: 21.8 percentage points\n"
          ]
        }
      ]
    },
    {
      "cell_type": "markdown",
      "source": [
        "\n",
        "\n",
        "---\n",
        "\n"
      ],
      "metadata": {
        "id": "Pg-RQ_n4TvcD"
      }
    },
    {
      "cell_type": "markdown",
      "source": [
        "## Step 11 Results - Significant Regional Performance Variations\n",
        "\n",
        "### Regional Performance Hierarchy\n",
        "\n",
        "**Top Performers**: ANZ (97.2%) and Japan (96.1%) lead in assignment rates with strong utilization.\n",
        "\n",
        "**Mid-Tier Markets**: Asean (92.6%), India (91.4%), and Korea (91.3%) cluster around 91-93% assignment.\n",
        "\n",
        "**Underperformer**: Greater China significantly lags at 82.8% assignment and 57.6% utilization.\n",
        "\n",
        "### Critical Performance Gaps\n",
        "\n",
        "**14.4 point assignment gap**: Between ANZ (97.2%) and Greater China (82.8%).\n",
        "\n",
        "**21.8 point utilization gap**: Between ANZ (79.4%) and Greater China (57.6%).\n",
        "\n",
        "**Market Size vs Performance**: Japan dominates market share (31.8%) while maintaining high performance.\n",
        "\n",
        "### Market Characteristics\n",
        "\n",
        "**Customer Size Patterns**: Asean (5.8 avg seats) and India (5.2 avg seats) have larger customers than ANZ (2.7 avg seats).\n",
        "\n",
        "**Volume Distribution**: Balanced market share across regions (11.6% - 31.8%) with no extreme concentration.\n",
        "\n",
        "**Utilization Leaders**: India (78.7%) and ANZ (79.4%) achieve highest utilization rates.\n",
        "\n",
        "### Strategic Implications\n",
        "\n",
        "**Greater China Intervention**: Urgent need for targeted improvement programs given 20+ point performance gaps.\n",
        "\n",
        "**Best Practice Sharing**: ANZ and Japan success strategies should be replicated in underperforming markets.\n",
        "\n",
        "**Resource Allocation**: Greater China represents 11.6% market share with significant improvement potential.\n",
        "\n",
        "### Next Step Strategy\n",
        "\n",
        "Analyze performance categories (expansion, contraction, churn) to identify risk and opportunity signals across the customer base."
      ],
      "metadata": {
        "id": "guZYvBI9TwOC"
      }
    },
    {
      "cell_type": "markdown",
      "source": [
        "\n",
        "\n",
        "---\n",
        "\n"
      ],
      "metadata": {
        "id": "KOPQuLmTTxQg"
      }
    },
    {
      "cell_type": "markdown",
      "source": [
        "## Phase 5: Risk & Opportunity Analysis\n",
        "\n",
        "### Step 12 - Performance Category Usage Patterns\n",
        "\n",
        "Understanding usage patterns across different performance categories (New, Expansion, Flat, Contraction, Churn) reveals critical signals for risk management and growth opportunities.\n",
        "\n",
        "**Strategic Value**: Performance categories combined with usage metrics provide early warning signals and expansion indicators.\n",
        "\n",
        "**Business Questions**:\n",
        "- Do expanding customers show different usage patterns than contracting ones?\n",
        "- Can usage metrics predict future performance category changes?\n",
        "- Which patterns indicate highest risk or opportunity?\n",
        "\n",
        "**Analysis Approach**: Compare Assignment Rate and Utilization Rate across performance categories to identify predictive patterns."
      ],
      "metadata": {
        "id": "a9jXneoSTyBn"
      }
    },
    {
      "cell_type": "markdown",
      "source": [
        "\n",
        "\n",
        "---\n",
        "\n"
      ],
      "metadata": {
        "id": "_O7uI73IT0by"
      }
    },
    {
      "cell_type": "code",
      "source": [
        "# Step 12: Usage Patterns by Performance Category\n",
        "print(\"Usage Patterns by Performance Category\")\n",
        "print(\"=\" * 40)\n",
        "\n",
        "# Merge with performance category data\n",
        "category_df = analysis_df.merge(\n",
        "    account_age_performance[['ACCOUNT_ID', 'ACCOUNT_PERFORMANCE_CATEGORY']],\n",
        "    on='ACCOUNT_ID',\n",
        "    how='left'\n",
        ")\n",
        "\n",
        "print(f\"Records with performance data: {category_df['ACCOUNT_PERFORMANCE_CATEGORY'].notna().sum():,}\")\n",
        "print(f\"Records missing performance data: {category_df['ACCOUNT_PERFORMANCE_CATEGORY'].isna().sum():,}\")\n",
        "\n",
        "# Analyze usage by performance category\n",
        "category_clean = category_df.dropna(subset=['ACCOUNT_PERFORMANCE_CATEGORY'])\n",
        "\n",
        "category_analysis = category_clean.groupby('ACCOUNT_PERFORMANCE_CATEGORY').agg({\n",
        "    'ASSIGNMENT_RATE': ['mean', 'median', 'std', 'count'],\n",
        "    'UTILIZATION_RATE_CAPPED': ['mean', 'median', 'std'],\n",
        "    'SEATS_PURCHASED': ['sum', 'mean'],\n",
        "    'ACCOUNT_ID': ['nunique']\n",
        "}).round(1)\n",
        "\n",
        "category_analysis.columns = ['_'.join(col).strip() for col in category_analysis.columns]\n",
        "\n",
        "# Order by business importance: Growth -> Stable -> Risk\n",
        "category_order = [\"Expansion\", \"New\", \"Flat\", \"Contraction\", \"Churn\"]\n",
        "\n",
        "print(f\"\\nUsage Performance by Business Category:\")\n",
        "print(\"=\" * 45)\n",
        "for category in category_order:\n",
        "    if category in category_analysis.index:\n",
        "        row = category_analysis.loc[category]\n",
        "        print(f\"\\n{category}:\")\n",
        "        print(f\"  Records: {row['ASSIGNMENT_RATE_count']:,.0f}\")\n",
        "        print(f\"  Unique Accounts: {row['ACCOUNT_ID_nunique']:,.0f}\")\n",
        "        print(f\"  Avg Assignment Rate: {row['ASSIGNMENT_RATE_mean']:.1f}%\")\n",
        "        print(f\"  Avg Utilization Rate: {row['UTILIZATION_RATE_CAPPED_mean']:.1f}%\")\n",
        "        print(f\"  Avg Seats per Customer: {row['SEATS_PURCHASED_mean']:.1f}\")\n",
        "\n",
        "# Compare growth vs risk categories\n",
        "if \"Expansion\" in category_analysis.index and \"Contraction\" in category_analysis.index:\n",
        "    expansion_assignment = category_analysis.loc[\"Expansion\", 'ASSIGNMENT_RATE_mean']\n",
        "    contraction_assignment = category_analysis.loc[\"Contraction\", 'ASSIGNMENT_RATE_mean']\n",
        "    expansion_utilization = category_analysis.loc[\"Expansion\", 'UTILIZATION_RATE_CAPPED_mean']\n",
        "    contraction_utilization = category_analysis.loc[\"Contraction\", 'UTILIZATION_RATE_CAPPED_mean']\n",
        "\n",
        "    print(f\"\\n\\nGrowth vs Risk Signal Analysis:\")\n",
        "    print(f\"Assignment Rate: Expansion ({expansion_assignment:.1f}%) vs Contraction ({contraction_assignment:.1f}%)\")\n",
        "    print(f\"Utilization Rate: Expansion ({expansion_utilization:.1f}%) vs Contraction ({contraction_utilization:.1f}%)\")\n",
        "\n",
        "    assignment_gap = expansion_assignment - contraction_assignment\n",
        "    utilization_gap = expansion_utilization - contraction_utilization\n",
        "    print(f\"Performance Gaps: Assignment ({assignment_gap:+.1f} pts), Utilization ({utilization_gap:+.1f} pts)\")"
      ],
      "metadata": {
        "colab": {
          "base_uri": "https://localhost:8080/"
        },
        "id": "FiOVb-F2T1VL",
        "outputId": "36c5d68b-ec02-417a-9800-e41f5449ddf5"
      },
      "execution_count": 25,
      "outputs": [
        {
          "output_type": "stream",
          "name": "stdout",
          "text": [
            "Usage Patterns by Performance Category\n",
            "========================================\n",
            "Records with performance data: 894,877\n",
            "Records missing performance data: 60,156\n",
            "\n",
            "Usage Performance by Business Category:\n",
            "=============================================\n",
            "\n",
            "Expansion:\n",
            "  Records: 137,219\n",
            "  Unique Accounts: 34,653\n",
            "  Avg Assignment Rate: 94.1%\n",
            "  Avg Utilization Rate: 79.8%\n",
            "  Avg Seats per Customer: 6.3\n",
            "\n",
            "New:\n",
            "  Records: 9,614\n",
            "  Unique Accounts: 5,846\n",
            "  Avg Assignment Rate: 93.9%\n",
            "  Avg Utilization Rate: 74.9%\n",
            "  Avg Seats per Customer: 2.1\n",
            "\n",
            "Flat:\n",
            "  Records: 679,640\n",
            "  Unique Accounts: 173,624\n",
            "  Avg Assignment Rate: 93.0%\n",
            "  Avg Utilization Rate: 74.7%\n",
            "  Avg Seats per Customer: 3.4\n",
            "\n",
            "Contraction:\n",
            "  Records: 53,382\n",
            "  Unique Accounts: 13,395\n",
            "  Avg Assignment Rate: 90.9%\n",
            "  Avg Utilization Rate: 75.6%\n",
            "  Avg Seats per Customer: 8.1\n",
            "\n",
            "Churn:\n",
            "  Records: 15,022\n",
            "  Unique Accounts: 3,765\n",
            "  Avg Assignment Rate: 89.1%\n",
            "  Avg Utilization Rate: 57.5%\n",
            "  Avg Seats per Customer: 2.5\n",
            "\n",
            "\n",
            "Growth vs Risk Signal Analysis:\n",
            "Assignment Rate: Expansion (94.1%) vs Contraction (90.9%)\n",
            "Utilization Rate: Expansion (79.8%) vs Contraction (75.6%)\n",
            "Performance Gaps: Assignment (+3.2 pts), Utilization (+4.2 pts)\n"
          ]
        }
      ]
    },
    {
      "cell_type": "markdown",
      "source": [
        "\n",
        "\n",
        "---\n",
        "\n"
      ],
      "metadata": {
        "id": "1rN5h28NUKWb"
      }
    },
    {
      "cell_type": "markdown",
      "source": [
        "## Step 12 Results - Clear Risk & Opportunity Signals\n",
        "\n",
        "### Performance Category Usage Patterns\n",
        "\n",
        "**Expansion Leaders**: Highest performing customers (94.1% assignment, 79.8% utilization) with larger seat counts (6.3 avg).\n",
        "\n",
        "**Churn Warning**: Churned customers show significantly lower utilization (57.5%) - a 22-point gap from expansion customers.\n",
        "\n",
        "**Stable Baseline**: Flat customers maintain solid performance (93.0% assignment, 74.7% utilization) representing business foundation.\n",
        "\n",
        "### Predictive Insights\n",
        "\n",
        "**Early Warning Signals**:\n",
        "- Utilization below 60% correlates with churn risk\n",
        "- Assignment rates below 90% indicate contraction potential\n",
        "\n",
        "**Growth Indicators**:\n",
        "- Utilization above 80% correlates with expansion potential\n",
        "- Higher seat counts (6.3 avg) in expansion customers suggest growth capacity\n",
        "\n",
        "### Customer Size Patterns\n",
        "\n",
        "**Expansion Profile**: Larger customers (6.3 seats) with high engagement drive growth.\n",
        "\n",
        "**Contraction Profile**: Largest customers (8.1 seats) but declining engagement suggest complexity challenges.\n",
        "\n",
        "**Churn Profile**: Smaller customers (2.5 seats) with poor utilization indicate product-market fit issues.\n",
        "\n",
        "### Strategic Implications\n",
        "\n",
        "**Risk Management**: Monitor customers with <60% utilization for churn prevention.\n",
        "\n",
        "**Growth Acceleration**: Focus expansion efforts on high-utilization customers (>80%).\n",
        "\n",
        "**Customer Success**: Contraction customers need immediate intervention given their large seat base (8.1 avg).\n",
        "\n",
        "### Next Step Strategy\n",
        "\n",
        "Create final summary with actionable recommendations for stakeholders based on all analysis findings."
      ],
      "metadata": {
        "id": "rWmdQsM7ULQC"
      }
    },
    {
      "cell_type": "markdown",
      "source": [
        "\n",
        "\n",
        "---\n",
        "\n"
      ],
      "metadata": {
        "id": "BPdAa5YpUM3N"
      }
    },
    {
      "cell_type": "markdown",
      "source": [
        "# Executive Summary & Strategic Recommendations\n",
        "\n",
        "## Key Baseline Metrics - APAC Performance\n",
        "\n",
        "**Assignment Rate Baseline**: 92.9% average (100% median) - Excellent onboarding performance  \n",
        "**Utilization Rate Baseline**: 74.0% average (100% median) - Strong active usage adoption\n",
        "\n",
        "---\n",
        "\n",
        "## Critical Findings & Strategic Implications\n",
        "\n",
        "### 1. Customer Size Performance Paradox\n",
        "\n",
        "**Finding**: Single-seat customers outperform enterprise accounts by 40 percentage points (98.3% vs 58.5% assignment).\n",
        "\n",
        "**Implication**: Enterprise customers require dedicated success programs to address complexity-driven adoption challenges.\n",
        "\n",
        "**Action**: Implement specialized enterprise onboarding and ongoing success management.\n",
        "\n",
        "### 2. Customer Lifecycle Opportunity\n",
        "\n",
        "**Finding**: New customers achieve higher performance than veterans (94.4% vs 92.4% assignment, 88.9% vs 74.9% utilization).\n",
        "\n",
        "**Implication**: Veteran customers experience engagement decline over time, representing re-activation opportunity.\n",
        "\n",
        "**Action**: Develop veteran customer re-engagement programs targeting 2+ year customers.\n",
        "\n",
        "### 3. Regional Performance Disparity\n",
        "\n",
        "**Finding**: 21.8 percentage point utilization gap between top performer (ANZ: 79.4%) and bottom performer (Greater China: 57.6%).\n",
        "\n",
        "**Implication**: Greater China market requires immediate intervention and strategy adjustment.\n",
        "\n",
        "**Action**: Deploy ANZ/Japan best practices to underperforming regions, prioritizing Greater China.\n",
        "\n",
        "### 4. Predictive Risk Signals\n",
        "\n",
        "**Finding**: Customers with <60% utilization show high churn correlation; >80% utilization correlates with expansion.\n",
        "\n",
        "**Implication**: Usage metrics provide early warning signals for customer success intervention.\n",
        "\n",
        "**Action**: Implement automated alerts for customers dropping below 60% utilization.\n",
        "\n",
        "---\n",
        "\n",
        "## Strategic Recommendations\n",
        "\n",
        "### Immediate Actions (0-3 months)\n",
        "\n",
        "1. **Enterprise Success Program**: Deploy dedicated customer success managers for 500+ seat accounts\n",
        "2. **Greater China Intervention**: Implement localized improvement initiative for underperforming region\n",
        "3. **Risk Monitoring**: Create automated alerts for customers below 60% utilization threshold\n",
        "\n",
        "### Medium-term Initiatives (3-12 months)\n",
        "\n",
        "1. **Veteran Re-engagement**: Launch targeted campaigns for 2+ year customers showing declining usage\n",
        "2. **Best Practice Replication**: Scale ANZ/Japan success strategies across APAC regions\n",
        "3. **Expansion Acceleration**: Target high-utilization customers (>80%) for upselling initiatives\n",
        "\n",
        "### Long-term Strategy (12+ months)\n",
        "\n",
        "1. **Predictive Analytics**: Develop advanced models using usage patterns for churn/expansion prediction\n",
        "2. **Segmented Success**: Create differentiated customer success approaches by size and region\n",
        "3. **Market Development**: Address mid-market gap (6-50 seats) for balanced portfolio growth\n",
        "\n",
        "---\n",
        "\n",
        "**Bottom Line**: APAC shows strong fundamentals with clear optimization opportunities. Focus on enterprise adoption, veteran re-engagement, and regional performance gaps to maximize growth potential."
      ],
      "metadata": {
        "id": "GMSUbq5GUOts"
      }
    },
    {
      "cell_type": "markdown",
      "source": [
        "\n",
        "\n",
        "---\n",
        "\n"
      ],
      "metadata": {
        "id": "BGaCdk8JV9SD"
      }
    },
    {
      "cell_type": "markdown",
      "source": [
        "# Power BI Dashboard Development Plan\n",
        "\n",
        "## Completing the Analytics Journey\n",
        "\n",
        "Having established comprehensive baseline metrics and identified critical business patterns, we now transition from analysis to actionable visualization. Power BI will transform our insights into an interactive executive dashboard that stakeholders can use for ongoing strategic decision-making.\n",
        "\n",
        "## Why Power BI Enhancement Matters\n",
        "\n",
        "**Executive Accessibility**: Transform complex analysis into intuitive visual insights that non-technical stakeholders can navigate independently.\n",
        "\n",
        "**Interactive Exploration**: Enable stakeholders to drill down into specific regions, customer segments, or time periods for deeper investigation.\n",
        "\n",
        "**Ongoing Monitoring**: Create a sustainable framework for tracking APAC performance metrics over time.\n",
        "\n",
        "**Strategic Communication**: Provide compelling visual evidence to support resource allocation and strategic decisions.\n",
        "\n",
        "---\n",
        "\n",
        "## Planned Dashboard Structure\n",
        "\n",
        "### Page 1: Executive Overview\n",
        "**Purpose**: High-level APAC performance summary for C-level stakeholders  \n",
        "**Key Visuals**:\n",
        "- APAC baseline metrics cards (92.9% assignment, 74.0% utilization)\n",
        "- Regional performance map showing assignment/utilization by geography\n",
        "- Customer health distribution (expansion vs contraction vs churn)\n",
        "- Month-over-month trend lines\n",
        "\n",
        "### Page 2: Customer Segmentation Deep Dive\n",
        "**Purpose**: Size-based and tenure-based performance analysis  \n",
        "**Key Visuals**:\n",
        "- Customer size band performance comparison (highlighting enterprise opportunity)\n",
        "- Tenure journey visualization showing performance evolution\n",
        "- Seat utilization efficiency by segment\n",
        "- Customer count vs revenue contribution analysis\n",
        "\n",
        "### Page 3: Regional Performance Analysis\n",
        "**Purpose**: Geographic performance comparison and opportunity identification  \n",
        "**Key Visuals**:\n",
        "- Regional ranking dashboard with performance gaps\n",
        "- Market share vs performance scatter plot\n",
        "- Regional trend analysis over time\n",
        "- Greater China improvement opportunity focus\n",
        "\n",
        "### Page 4: Risk & Opportunity Matrix\n",
        "**Purpose**: Customer success and growth strategy support  \n",
        "**Key Visuals**:\n",
        "- Risk signal dashboard (customers <60% utilization)\n",
        "- Expansion opportunity matrix (customers >80% utilization)\n",
        "- Performance category distribution and trends\n",
        "- Predictive indicators for customer success teams\n",
        "\n",
        "---\n",
        "\n",
        "## Datasets to Create for Maximum Impact\n",
        "\n",
        "### 1. Master Usage Dataset\n",
        "**Purpose**: Core dataset with all metrics, dimensions, and calculated fields  \n",
        "**Contents**: Combined monthly data with size bands, regional data, corrected metrics\n",
        "\n",
        "### 2. Customer Dimension Table\n",
        "**Purpose**: Customer attributes for filtering and segmentation  \n",
        "**Contents**: Account ID, tenure, performance category, size band classification\n",
        "\n",
        "### 3. Regional Summary Table\n",
        "**Purpose**: Pre-aggregated regional performance for quick dashboards  \n",
        "**Contents**: Region-level assignment/utilization rates, customer counts, seat totals\n",
        "\n",
        "### 4. Size Band Analysis Table\n",
        "**Purpose**: Performance metrics by customer size segments  \n",
        "**Contents**: Size band performance, customer counts, opportunity analysis\n",
        "\n",
        "### 5. Tenure Performance Table\n",
        "**Purpose**: Customer lifecycle analysis  \n",
        "**Contents**: Performance by customer age, journey tracking\n",
        "\n",
        "### 6. Risk & Opportunity Matrix\n",
        "**Purpose**: Business category analysis for strategic insights  \n",
        "**Contents**: Performance category metrics, risk signals, expansion indicators\n",
        "\n",
        "## Power BI Optimization Features\n",
        "\n",
        "- **Clean column names** (no spaces, descriptive)\n",
        "- **Proper data types** for relationships\n",
        "- **Pre-calculated metrics** for performance\n",
        "- **Dimension keys** for easy filtering\n",
        "- **Date formatting** for time intelligence\n",
        "\n",
        "## Expected Business Impact\n",
        "\n",
        "**Immediate Value**: Stakeholders gain instant access to APAC performance insights without requiring data analysis expertise.\n",
        "\n",
        "**Strategic Decisions**: Visual evidence supports resource allocation to Greater China improvement and enterprise customer success programs.\n",
        "\n",
        "**Operational Efficiency**: Customer success teams can quickly identify at-risk accounts and expansion opportunities.\n",
        "\n",
        "**Ongoing Monitoring**: Sustainable framework for tracking progress against the baselines we've established."
      ],
      "metadata": {
        "id": "WnVu6798V-QK"
      }
    },
    {
      "cell_type": "code",
      "source": [
        "# Dataset 1: Master Usage Data for Power BI\n",
        "print(\"Creating Master Usage Dataset for Power BI\")\n",
        "print(\"=\" * 45)\n",
        "\n",
        "# Create comprehensive master dataset\n",
        "master_df = analysis_df.copy()\n",
        "\n",
        "# Add customer dimension data\n",
        "master_df = master_df.merge(\n",
        "    account_age_performance[['ACCOUNT_ID', 'ACCOUNT_AGE', 'ACCOUNT_PERFORMANCE_CATEGORY']], # ← AQUÍ CAMBIO\n",
        "    on='ACCOUNT_ID',\n",
        "    how='left'\n",
        ")\n",
        "# Clean column names for Power BI (no spaces, descriptive)\n",
        "master_df = master_df.rename(columns={\n",
        "    'MONTH': 'Month',\n",
        "    'ACCOUNT_ID': 'AccountID',\n",
        "    'REGION': 'Region',\n",
        "    'SEATS_PURCHASED': 'SeatsPurchased',\n",
        "    'SEATS_ASSIGNED': 'SeatsAssigned',\n",
        "    'MAU': 'MonthlyActiveUsers',\n",
        "    'ASSIGNMENT_RATE': 'AssignmentRate',\n",
        "    'UTILIZATION_RATE_CAPPED': 'UtilizationRate',\n",
        "    'CUSTOMER_SIZE_BAND': 'CustomerSizeBand',\n",
        "    'ACCOUNT_AGE': 'CustomerTenure',\n",
        "    'ACCOUNT_PERFORMANCE_CATEGORY': 'PerformanceCategory'\n",
        "})\n",
        "\n",
        "# Add calculated fields for Power BI\n",
        "master_df['TotalSeatsUtilized'] = master_df['MonthlyActiveUsers']\n",
        "master_df['UnusedSeats'] = master_df['SeatsPurchased'] - master_df['MonthlyActiveUsers']\n",
        "master_df['UnassignedSeats'] = master_df['SeatsPurchased'] - master_df['SeatsAssigned']\n",
        "\n",
        "# Add date components for time intelligence\n",
        "master_df['Year'] = master_df['Month'].str[:4].astype(int)\n",
        "master_df['MonthNum'] = master_df['Month'].str[5:7].astype(int)\n",
        "master_df['MonthYear'] = master_df['Month']\n",
        "\n",
        "# Add performance flags for easy filtering\n",
        "master_df['HighPerformer'] = ((master_df['AssignmentRate'] >= 95) & (master_df['UtilizationRate'] >= 80))\n",
        "master_df['AtRisk'] = (master_df['UtilizationRate'] < 60)\n",
        "master_df['ExpansionCandidate'] = (master_df['UtilizationRate'] > 80)\n",
        "\n",
        "# Display sample and save\n",
        "print(\"Master Dataset Preview:\")\n",
        "print(f\"Shape: {master_df.shape}\")\n",
        "print(f\"Columns: {list(master_df.columns)}\")\n",
        "print(f\"\\nSample records:\")\n",
        "print(master_df.head(3)[['AccountID', 'Region', 'CustomerSizeBand', 'AssignmentRate', 'UtilizationRate', 'PerformanceCategory']])\n",
        "\n",
        "# Save to CSV\n",
        "master_df.to_csv('autodesk_master_usage_data.csv', index=False)\n",
        "print(f\"\\n✅ Saved: autodesk_master_usage_data.csv ({len(master_df):,} records)\")\n",
        "print(f\"File ready for Power BI import!\")"
      ],
      "metadata": {
        "colab": {
          "base_uri": "https://localhost:8080/"
        },
        "id": "z51sH6MEWCkX",
        "outputId": "1cc1f4e1-e53b-4266-e40d-1dcfe4f16d6b"
      },
      "execution_count": 28,
      "outputs": [
        {
          "output_type": "stream",
          "name": "stdout",
          "text": [
            "Creating Master Usage Dataset for Power BI\n",
            "=============================================\n",
            "Master Dataset Preview:\n",
            "Shape: (955033, 21)\n",
            "Columns: ['Month', 'AccountID', 'Region', 'SeatsPurchased', 'SeatsAssigned', 'MonthlyActiveUsers', 'AssignmentRate', 'UTILIZATION_RATE', 'UtilizationRate', 'CustomerSizeBand', 'CustomerTenure', 'PerformanceCategory', 'TotalSeatsUtilized', 'UnusedSeats', 'UnassignedSeats', 'Year', 'MonthNum', 'MonthYear', 'HighPerformer', 'AtRisk', 'ExpansionCandidate']\n",
            "\n",
            "Sample records:\n",
            "                   AccountID Region CustomerSizeBand  AssignmentRate  \\\n",
            "0  6649474646146632491000000  Japan           1 Seat           100.0   \n",
            "1  5603055046115161730000000  Korea        2-5 Seats            33.0   \n",
            "2  6432972925254566085000000  Japan      11-50 Seats            92.0   \n",
            "\n",
            "   UtilizationRate PerformanceCategory  \n",
            "0            100.0                Flat  \n",
            "1             33.0                Flat  \n",
            "2             69.0                Flat  \n",
            "\n",
            "✅ Saved: autodesk_master_usage_data.csv (955,033 records)\n",
            "File ready for Power BI import!\n"
          ]
        }
      ]
    },
    {
      "cell_type": "code",
      "source": [
        "# Dataset 2: Regional Summary for Power BI\n",
        "print(\"Creating Regional Summary Dataset for Power BI\")\n",
        "print(\"=\" * 50)\n",
        "\n",
        "# Create regional aggregated dataset\n",
        "regional_summary = master_df.groupby('Region').agg({\n",
        "    'AssignmentRate': ['mean', 'median'],\n",
        "    'UtilizationRate': ['mean', 'median'],\n",
        "    'SeatsPurchased': ['sum', 'mean'],\n",
        "    'AccountID': ['count', 'nunique'],\n",
        "    'MonthlyActiveUsers': 'sum',\n",
        "    'HighPerformer': 'sum',\n",
        "    'AtRisk': 'sum',\n",
        "    'ExpansionCandidate': 'sum'\n",
        "}).round(1)\n",
        "\n",
        "# Flatten columns\n",
        "regional_summary.columns = ['_'.join(col).strip() for col in regional_summary.columns]\n",
        "\n",
        "# Reset index to make Region a column\n",
        "regional_summary = regional_summary.reset_index()\n",
        "\n",
        "# Rename columns for Power BI clarity\n",
        "regional_summary = regional_summary.rename(columns={\n",
        "    'Region': 'Region',\n",
        "    'AssignmentRate_mean': 'AvgAssignmentRate',\n",
        "    'AssignmentRate_median': 'MedianAssignmentRate',\n",
        "    'UtilizationRate_mean': 'AvgUtilizationRate',\n",
        "    'UtilizationRate_median': 'MedianUtilizationRate',\n",
        "    'SeatsPurchased_sum': 'TotalSeats',\n",
        "    'SeatsPurchased_mean': 'AvgSeatsPerCustomer',\n",
        "    'AccountID_count': 'TotalRecords',\n",
        "    'AccountID_nunique': 'UniqueCustomers',\n",
        "    'MonthlyActiveUsers_sum': 'TotalActiveUsers',\n",
        "    'HighPerformer_sum': 'HighPerformerCount',\n",
        "    'AtRisk_sum': 'AtRiskCount',\n",
        "    'ExpansionCandidate_sum': 'ExpansionCandidateCount'\n",
        "})\n",
        "\n",
        "# Add calculated fields\n",
        "regional_summary['MarketShareByRecords'] = (regional_summary['TotalRecords'] / regional_summary['TotalRecords'].sum() * 100).round(1)\n",
        "regional_summary['MarketShareBySeats'] = (regional_summary['TotalSeats'] / regional_summary['TotalSeats'].sum() * 100).round(1)\n",
        "regional_summary['UtilizationEfficiency'] = (regional_summary['TotalActiveUsers'] / regional_summary['TotalSeats'] * 100).round(1)\n",
        "regional_summary['HighPerformerRate'] = (regional_summary['HighPerformerCount'] / regional_summary['TotalRecords'] * 100).round(1)\n",
        "regional_summary['AtRiskRate'] = (regional_summary['AtRiskCount'] / regional_summary['TotalRecords'] * 100).round(1)\n",
        "\n",
        "# Add performance ranking\n",
        "regional_summary['AssignmentRateRank'] = regional_summary['AvgAssignmentRate'].rank(ascending=False, method='min').astype(int)\n",
        "regional_summary['UtilizationRateRank'] = regional_summary['AvgUtilizationRate'].rank(ascending=False, method='min').astype(int)\n",
        "\n",
        "print(\"Regional Summary Preview:\")\n",
        "print(f\"Shape: {regional_summary.shape}\")\n",
        "print(regional_summary[['Region', 'AvgAssignmentRate', 'AvgUtilizationRate', 'TotalSeats', 'MarketShareBySeats']])\n",
        "\n",
        "# Save to CSV\n",
        "regional_summary.to_csv('autodesk_regional_summary.csv', index=False)\n",
        "print(f\"\\n✅ Saved: autodesk_regional_summary.csv ({len(regional_summary)} regions)\")\n",
        "print(\"Perfect for Power BI regional performance visuals!\")"
      ],
      "metadata": {
        "colab": {
          "base_uri": "https://localhost:8080/"
        },
        "id": "EHfBm9MEW-6L",
        "outputId": "2cb86f45-6df5-4d21-ad92-ba6d0825b49c"
      },
      "execution_count": 29,
      "outputs": [
        {
          "output_type": "stream",
          "name": "stdout",
          "text": [
            "Creating Regional Summary Dataset for Power BI\n",
            "==================================================\n",
            "Regional Summary Preview:\n",
            "Shape: (6, 20)\n",
            "          Region  AvgAssignmentRate  AvgUtilizationRate  TotalSeats  \\\n",
            "0            ANZ               97.2                79.4      370237   \n",
            "1          Asean               92.6                76.0      803394   \n",
            "2  Greater China               82.8                57.6      537133   \n",
            "3          INDIA               91.4                78.7      621273   \n",
            "4          Japan               96.1                75.7     1024018   \n",
            "5          Korea               91.3                72.2      444922   \n",
            "\n",
            "   MarketShareBySeats  \n",
            "0                 9.7  \n",
            "1                21.1  \n",
            "2                14.1  \n",
            "3                16.3  \n",
            "4                26.9  \n",
            "5                11.7  \n",
            "\n",
            "✅ Saved: autodesk_regional_summary.csv (6 regions)\n",
            "Perfect for Power BI regional performance visuals!\n"
          ]
        }
      ]
    },
    {
      "cell_type": "code",
      "source": [
        "# Dataset 3: Size Band Analysis for Power BI\n",
        "print(\"Creating Size Band Analysis Dataset for Power BI\")\n",
        "print(\"=\" * 55)\n",
        "\n",
        "# Create size band aggregated dataset\n",
        "size_band_summary = master_df.groupby('CustomerSizeBand').agg({\n",
        "    'AssignmentRate': ['mean', 'median', 'std'],\n",
        "    'UtilizationRate': ['mean', 'median', 'std'],\n",
        "    'SeatsPurchased': ['sum', 'mean', 'count'],\n",
        "    'AccountID': ['nunique'],\n",
        "    'MonthlyActiveUsers': 'sum',\n",
        "    'HighPerformer': 'sum',\n",
        "    'AtRisk': 'sum',\n",
        "    'ExpansionCandidate': 'sum'\n",
        "}).round(1)\n",
        "\n",
        "# Flatten columns\n",
        "size_band_summary.columns = ['_'.join(col).strip() for col in size_band_summary.columns]\n",
        "\n",
        "# Reset index\n",
        "size_band_summary = size_band_summary.reset_index()\n",
        "\n",
        "# Rename for Power BI\n",
        "size_band_summary = size_band_summary.rename(columns={\n",
        "    'CustomerSizeBand': 'SizeBand',\n",
        "    'AssignmentRate_mean': 'AvgAssignmentRate',\n",
        "    'AssignmentRate_median': 'MedianAssignmentRate',\n",
        "    'AssignmentRate_std': 'AssignmentRateStdDev',\n",
        "    'UtilizationRate_mean': 'AvgUtilizationRate',\n",
        "    'UtilizationRate_median': 'MedianUtilizationRate',\n",
        "    'UtilizationRate_std': 'UtilizationRateStdDev',\n",
        "    'SeatsPurchased_sum': 'TotalSeats',\n",
        "    'SeatsPurchased_mean': 'AvgSeatsPerCustomer',\n",
        "    'SeatsPurchased_count': 'TotalRecords',\n",
        "    'AccountID_nunique': 'UniqueCustomers',\n",
        "    'MonthlyActiveUsers_sum': 'TotalActiveUsers',\n",
        "    'HighPerformer_sum': 'HighPerformerCount',\n",
        "    'AtRisk_sum': 'AtRiskCount',\n",
        "    'ExpansionCandidate_sum': 'ExpansionCandidateCount'\n",
        "})\n",
        "\n",
        "# Add size band order for proper sorting in Power BI\n",
        "size_order_map = {\n",
        "    \"1 Seat\": 1, \"2-5 Seats\": 2, \"6-10 Seats\": 3, \"11-50 Seats\": 4,\n",
        "    \"51-100 Seats\": 5, \"101-200 Seats\": 6, \"201-500 Seats\": 7, \"500+ Seats\": 8\n",
        "}\n",
        "size_band_summary['SizeBandOrder'] = size_band_summary['SizeBand'].map(size_order_map)\n",
        "\n",
        "# Add business metrics\n",
        "size_band_summary['CustomerDistribution'] = (size_band_summary['UniqueCustomers'] / size_band_summary['UniqueCustomers'].sum() * 100).round(1)\n",
        "size_band_summary['RevenueContribution'] = (size_band_summary['TotalSeats'] / size_band_summary['TotalSeats'].sum() * 100).round(1)\n",
        "size_band_summary['PerformanceGap'] = (size_band_summary['AvgAssignmentRate'] - size_band_summary['AvgUtilizationRate']).round(1)\n",
        "size_band_summary['AtRiskRate'] = (size_band_summary['AtRiskCount'] / size_band_summary['TotalRecords'] * 100).round(1)\n",
        "\n",
        "# Sort by size order\n",
        "size_band_summary = size_band_summary.sort_values('SizeBandOrder')\n",
        "\n",
        "print(\"Size Band Summary Preview:\")\n",
        "print(f\"Shape: {size_band_summary.shape}\")\n",
        "print(size_band_summary[['SizeBand', 'AvgAssignmentRate', 'AvgUtilizationRate', 'UniqueCustomers', 'RevenueContribution']])\n",
        "\n",
        "# Save to CSV\n",
        "size_band_summary.to_csv('autodesk_sizeband_analysis.csv', index=False)\n",
        "print(f\"\\n✅ Saved: autodesk_sizeband_analysis.csv ({len(size_band_summary)} size bands)\")\n",
        "print(\"Ideal for customer segmentation visuals!\")"
      ],
      "metadata": {
        "colab": {
          "base_uri": "https://localhost:8080/"
        },
        "id": "QpkdLrAtXBdH",
        "outputId": "2cd3a286-6e02-4c85-bd34-433a9afcac25"
      },
      "execution_count": 30,
      "outputs": [
        {
          "output_type": "stream",
          "name": "stdout",
          "text": [
            "Creating Size Band Analysis Dataset for Power BI\n",
            "=======================================================\n",
            "Size Band Summary Preview:\n",
            "Shape: (8, 20)\n",
            "        SizeBand  AvgAssignmentRate  AvgUtilizationRate  UniqueCustomers  \\\n",
            "0         1 Seat               98.3                77.0           144137   \n",
            "3      2-5 Seats               85.5                68.8            80404   \n",
            "7     6-10 Seats               87.4                72.9            20716   \n",
            "2    11-50 Seats               88.9                75.0            16506   \n",
            "6   51-100 Seats               88.1                73.8             1377   \n",
            "1  101-200 Seats               88.3                73.1              466   \n",
            "4  201-500 Seats               86.7                73.9               76   \n",
            "5     500+ Seats               58.5                46.4               18   \n",
            "\n",
            "   RevenueContribution  \n",
            "0                 13.8  \n",
            "3                 22.2  \n",
            "7                 14.3  \n",
            "2                 31.7  \n",
            "6                  9.0  \n",
            "1                  5.9  \n",
            "4                  2.0  \n",
            "5                  1.1  \n",
            "\n",
            "✅ Saved: autodesk_sizeband_analysis.csv (8 size bands)\n",
            "Ideal for customer segmentation visuals!\n"
          ]
        }
      ]
    },
    {
      "cell_type": "code",
      "source": [
        "# Dataset 4: Tenure Performance Analysis for Power BI\n",
        "print(\"Creating Tenure Performance Dataset for Power BI\")\n",
        "print(\"=\" * 55)\n",
        "\n",
        "# Filter data with tenure information\n",
        "tenure_data = master_df.dropna(subset=['CustomerTenure']).copy()\n",
        "\n",
        "# Create tenure aggregated dataset\n",
        "tenure_summary = tenure_data.groupby('CustomerTenure').agg({\n",
        "    'AssignmentRate': ['mean', 'median'],\n",
        "    'UtilizationRate': ['mean', 'median'],\n",
        "    'SeatsPurchased': ['sum', 'mean'],\n",
        "    'AccountID': ['count', 'nunique'],\n",
        "    'MonthlyActiveUsers': 'sum',\n",
        "    'HighPerformer': 'sum',\n",
        "    'AtRisk': 'sum',\n",
        "    'ExpansionCandidate': 'sum'\n",
        "}).round(1)\n",
        "\n",
        "# Flatten columns\n",
        "tenure_summary.columns = ['_'.join(col).strip() for col in tenure_summary.columns]\n",
        "\n",
        "# Reset index\n",
        "tenure_summary = tenure_summary.reset_index()\n",
        "\n",
        "# Rename for Power BI\n",
        "tenure_summary = tenure_summary.rename(columns={\n",
        "    'CustomerTenure': 'TenureSegment',\n",
        "    'AssignmentRate_mean': 'AvgAssignmentRate',\n",
        "    'AssignmentRate_median': 'MedianAssignmentRate',\n",
        "    'UtilizationRate_mean': 'AvgUtilizationRate',\n",
        "    'UtilizationRate_median': 'MedianUtilizationRate',\n",
        "    'SeatsPurchased_sum': 'TotalSeats',\n",
        "    'SeatsPurchased_mean': 'AvgSeatsPerCustomer',\n",
        "    'AccountID_count': 'TotalRecords',\n",
        "    'AccountID_nunique': 'UniqueCustomers',\n",
        "    'MonthlyActiveUsers_sum': 'TotalActiveUsers',\n",
        "    'HighPerformer_sum': 'HighPerformerCount',\n",
        "    'AtRisk_sum': 'AtRiskCount',\n",
        "    'ExpansionCandidate_sum': 'ExpansionCandidateCount'\n",
        "})\n",
        "\n",
        "# Add tenure order for proper sorting\n",
        "tenure_order_map = {\n",
        "    \"1st Year - 1st Qtr\": 1, \"1st Year - 2nd Qtr\": 2, \"1st Year - 3rd Qtr\": 3,\n",
        "    \"1st Year - 4th Qtr\": 4, \"1-2 Years\": 5, \"2 Years\": 6, \"2-3 Years\": 7,\n",
        "    \"3 Years\": 8, \"3+ Years\": 9\n",
        "}\n",
        "tenure_summary['TenureOrder'] = tenure_summary['TenureSegment'].map(tenure_order_map)\n",
        "\n",
        "# Add business metrics\n",
        "tenure_summary['CustomerDistribution'] = (tenure_summary['UniqueCustomers'] / tenure_summary['UniqueCustomers'].sum() * 100).round(1)\n",
        "tenure_summary['AtRiskRate'] = (tenure_summary['AtRiskCount'] / tenure_summary['TotalRecords'] * 100).round(1)\n",
        "tenure_summary['HighPerformerRate'] = (tenure_summary['HighPerformerCount'] / tenure_summary['TotalRecords'] * 100).round(1)\n",
        "\n",
        "# Add lifecycle stage classification\n",
        "def classify_lifecycle_stage(tenure_segment):\n",
        "    if \"1st Year\" in tenure_segment:\n",
        "        return \"New Customer\"\n",
        "    elif any(x in tenure_segment for x in [\"1-2 Years\", \"2 Years\"]):\n",
        "        return \"Growing Customer\"\n",
        "    elif any(x in tenure_segment for x in [\"2-3 Years\", \"3 Years\"]):\n",
        "        return \"Maturing Customer\"\n",
        "    else:\n",
        "        return \"Veteran Customer\"\n",
        "\n",
        "tenure_summary['LifecycleStage'] = tenure_summary['TenureSegment'].apply(classify_lifecycle_stage)\n",
        "\n",
        "# Sort by tenure order\n",
        "tenure_summary = tenure_summary.sort_values('TenureOrder')\n",
        "\n",
        "print(\"Tenure Summary Preview:\")\n",
        "print(f\"Shape: {tenure_summary.shape}\")\n",
        "print(tenure_summary[['TenureSegment', 'LifecycleStage', 'AvgAssignmentRate', 'AvgUtilizationRate', 'UniqueCustomers']])\n",
        "\n",
        "# Save to CSV\n",
        "tenure_summary.to_csv('autodesk_tenure_analysis.csv', index=False)\n",
        "print(f\"\\n✅ Saved: autodesk_tenure_analysis.csv ({len(tenure_summary)} tenure segments)\")\n",
        "print(\"Perfect for customer lifecycle journey visuals!\")"
      ],
      "metadata": {
        "colab": {
          "base_uri": "https://localhost:8080/"
        },
        "id": "oUlQHUlMXZZT",
        "outputId": "8ab79007-74b5-4afc-81f2-72dc922817e9"
      },
      "execution_count": 31,
      "outputs": [
        {
          "output_type": "stream",
          "name": "stdout",
          "text": [
            "Creating Tenure Performance Dataset for Power BI\n",
            "=======================================================\n",
            "Tenure Summary Preview:\n",
            "Shape: (9, 18)\n",
            "        TenureSegment     LifecycleStage  AvgAssignmentRate  \\\n",
            "1  1st Year - 1st Qtr       New Customer               94.4   \n",
            "2  1st Year - 2nd Qtr       New Customer               94.3   \n",
            "3  1st Year - 3rd Qtr       New Customer               94.3   \n",
            "4  1st Year - 4th Qtr       New Customer               94.2   \n",
            "0           1-2 Years   Growing Customer               93.5   \n",
            "5             2 Years   Growing Customer               94.2   \n",
            "6           2-3 Years  Maturing Customer               93.8   \n",
            "7             3 Years  Maturing Customer               93.7   \n",
            "8            3+ Years   Veteran Customer               92.4   \n",
            "\n",
            "   AvgUtilizationRate  UniqueCustomers  \n",
            "1                88.9               13  \n",
            "2                74.8             4448  \n",
            "3                77.1            14265  \n",
            "4                77.0            13032  \n",
            "0                76.9            41269  \n",
            "5                76.7             9638  \n",
            "6                75.0            24884  \n",
            "7                73.7             8346  \n",
            "8                74.9           112113  \n",
            "\n",
            "✅ Saved: autodesk_tenure_analysis.csv (9 tenure segments)\n",
            "Perfect for customer lifecycle journey visuals!\n"
          ]
        }
      ]
    },
    {
      "cell_type": "code",
      "source": [
        "# Dataset 5: Risk & Opportunity Matrix for Power BI\n",
        "print(\"Creating Risk & Opportunity Matrix Dataset for Power BI\")\n",
        "print(\"=\" * 60)\n",
        "\n",
        "# Filter data with performance category information\n",
        "performance_data = master_df.dropna(subset=['PerformanceCategory']).copy()\n",
        "\n",
        "# Create performance category aggregated dataset\n",
        "performance_summary = performance_data.groupby('PerformanceCategory').agg({\n",
        "    'AssignmentRate': ['mean', 'median', 'std'],\n",
        "    'UtilizationRate': ['mean', 'median', 'std'],\n",
        "    'SeatsPurchased': ['sum', 'mean'],\n",
        "    'AccountID': ['count', 'nunique'],\n",
        "    'MonthlyActiveUsers': 'sum',\n",
        "    'HighPerformer': 'sum',\n",
        "    'AtRisk': 'sum',\n",
        "    'ExpansionCandidate': 'sum'\n",
        "}).round(1)\n",
        "\n",
        "# Flatten columns\n",
        "performance_summary.columns = ['_'.join(col).strip() for col in performance_summary.columns]\n",
        "\n",
        "# Reset index\n",
        "performance_summary = performance_summary.reset_index()\n",
        "\n",
        "# Rename for Power BI\n",
        "performance_summary = performance_summary.rename(columns={\n",
        "    'PerformanceCategory': 'BusinessCategory',\n",
        "    'AssignmentRate_mean': 'AvgAssignmentRate',\n",
        "    'AssignmentRate_median': 'MedianAssignmentRate',\n",
        "    'AssignmentRate_std': 'AssignmentRateStdDev',\n",
        "    'UtilizationRate_mean': 'AvgUtilizationRate',\n",
        "    'UtilizationRate_median': 'MedianUtilizationRate',\n",
        "    'UtilizationRate_std': 'UtilizationRateStdDev',\n",
        "    'SeatsPurchased_sum': 'TotalSeats',\n",
        "    'SeatsPurchased_mean': 'AvgSeatsPerCustomer',\n",
        "    'AccountID_count': 'TotalRecords',\n",
        "    'AccountID_nunique': 'UniqueCustomers',\n",
        "    'MonthlyActiveUsers_sum': 'TotalActiveUsers',\n",
        "    'HighPerformer_sum': 'HighPerformerCount',\n",
        "    'AtRisk_sum': 'AtRiskCount',\n",
        "    'ExpansionCandidate_sum': 'ExpansionCandidateCount'\n",
        "})\n",
        "\n",
        "# Add business priority order\n",
        "priority_order_map = {\"Expansion\": 1, \"New\": 2, \"Flat\": 3, \"Contraction\": 4, \"Churn\": 5}\n",
        "performance_summary['PriorityOrder'] = performance_summary['BusinessCategory'].map(priority_order_map)\n",
        "\n",
        "# Add risk/opportunity classification\n",
        "def classify_business_signal(category):\n",
        "    if category in [\"Expansion\", \"New\"]:\n",
        "        return \"Growth Opportunity\"\n",
        "    elif category == \"Flat\":\n",
        "        return \"Stable Base\"\n",
        "    else:\n",
        "        return \"Risk Signal\"\n",
        "\n",
        "performance_summary['BusinessSignal'] = performance_summary['BusinessCategory'].apply(classify_business_signal)\n",
        "\n",
        "# Add business metrics\n",
        "performance_summary['CustomerDistribution'] = (performance_summary['UniqueCustomers'] / performance_summary['UniqueCustomers'].sum() * 100).round(1)\n",
        "performance_summary['RevenueContribution'] = (performance_summary['TotalSeats'] / performance_summary['TotalSeats'].sum() * 100).round(1)\n",
        "performance_summary['AtRiskRate'] = (performance_summary['AtRiskCount'] / performance_summary['TotalRecords'] * 100).round(1)\n",
        "\n",
        "# Sort by priority order\n",
        "performance_summary = performance_summary.sort_values('PriorityOrder')\n",
        "\n",
        "print(\"Performance Category Summary Preview:\")\n",
        "print(f\"Shape: {performance_summary.shape}\")\n",
        "print(performance_summary[['BusinessCategory', 'BusinessSignal', 'AvgAssignmentRate', 'AvgUtilizationRate', 'CustomerDistribution']])\n",
        "\n",
        "# Save to CSV\n",
        "performance_summary.to_csv('autodesk_risk_opportunity_matrix.csv', index=False)\n",
        "print(f\"\\n✅ Saved: autodesk_risk_opportunity_matrix.csv ({len(performance_summary)} categories)\")\n",
        "print(\"Ideal for strategic risk and opportunity dashboards!\")"
      ],
      "metadata": {
        "colab": {
          "base_uri": "https://localhost:8080/"
        },
        "id": "WsWQQEIYXcHu",
        "outputId": "41724adb-01ad-4442-bf1b-0559b61017fb"
      },
      "execution_count": 32,
      "outputs": [
        {
          "output_type": "stream",
          "name": "stdout",
          "text": [
            "Creating Risk & Opportunity Matrix Dataset for Power BI\n",
            "============================================================\n",
            "Performance Category Summary Preview:\n",
            "Shape: (5, 20)\n",
            "  BusinessCategory      BusinessSignal  AvgAssignmentRate  AvgUtilizationRate  \\\n",
            "2        Expansion  Growth Opportunity               94.1                79.8   \n",
            "4              New  Growth Opportunity               93.9                74.9   \n",
            "3             Flat         Stable Base               93.0                74.7   \n",
            "1      Contraction         Risk Signal               90.9                75.6   \n",
            "0            Churn         Risk Signal               89.1                57.5   \n",
            "\n",
            "   CustomerDistribution  \n",
            "2                  15.0  \n",
            "4                   2.5  \n",
            "3                  75.1  \n",
            "1                   5.8  \n",
            "0                   1.6  \n",
            "\n",
            "✅ Saved: autodesk_risk_opportunity_matrix.csv (5 categories)\n",
            "Ideal for strategic risk and opportunity dashboards!\n"
          ]
        }
      ]
    },
    {
      "cell_type": "code",
      "source": [
        "# Dataset 6: Monthly Trends Analysis for Power BI\n",
        "print(\"Creating Monthly Trends Dataset for Power BI\")\n",
        "print(\"=\" * 50)\n",
        "\n",
        "# Create monthly trend analysis\n",
        "monthly_trends = master_df.groupby(['MonthYear', 'Region']).agg({\n",
        "    'AssignmentRate': ['mean', 'median'],\n",
        "    'UtilizationRate': ['mean', 'median'],\n",
        "    'SeatsPurchased': 'sum',\n",
        "    'AccountID': ['count', 'nunique'],\n",
        "    'MonthlyActiveUsers': 'sum',\n",
        "    'HighPerformer': 'sum',\n",
        "    'AtRisk': 'sum',\n",
        "    'ExpansionCandidate': 'sum'\n",
        "}).round(1)\n",
        "\n",
        "# Flatten columns\n",
        "monthly_trends.columns = ['_'.join(col).strip() for col in monthly_trends.columns]\n",
        "\n",
        "# Reset index\n",
        "monthly_trends = monthly_trends.reset_index()\n",
        "\n",
        "# Rename for Power BI\n",
        "monthly_trends = monthly_trends.rename(columns={\n",
        "    'MonthYear': 'Month',\n",
        "    'Region': 'Region',\n",
        "    'AssignmentRate_mean': 'AvgAssignmentRate',\n",
        "    'AssignmentRate_median': 'MedianAssignmentRate',\n",
        "    'UtilizationRate_mean': 'AvgUtilizationRate',\n",
        "    'UtilizationRate_median': 'MedianUtilizationRate',\n",
        "    'SeatsPurchased_sum': 'TotalSeats',\n",
        "    'AccountID_count': 'TotalRecords',\n",
        "    'AccountID_nunique': 'UniqueCustomers',\n",
        "    'MonthlyActiveUsers_sum': 'TotalActiveUsers',\n",
        "    'HighPerformer_sum': 'HighPerformerCount',\n",
        "    'AtRisk_sum': 'AtRiskCount',\n",
        "    'ExpansionCandidate_sum': 'ExpansionCandidateCount'\n",
        "})\n",
        "\n",
        "# Add date components for proper sorting\n",
        "monthly_trends['Year'] = monthly_trends['Month'].str[:4].astype(int)\n",
        "monthly_trends['MonthNum'] = monthly_trends['Month'].str[5:7].astype(int)\n",
        "monthly_trends['MonthName'] = monthly_trends['Month'].map({\n",
        "    '2024-05': 'May 2024',\n",
        "    '2024-06': 'June 2024',\n",
        "    '2024-07': 'July 2024',\n",
        "    '2024-08': 'August 2024'\n",
        "})\n",
        "\n",
        "# Add calculated metrics\n",
        "monthly_trends['UtilizationEfficiency'] = (monthly_trends['TotalActiveUsers'] / monthly_trends['TotalSeats'] * 100).round(1)\n",
        "monthly_trends['AtRiskRate'] = (monthly_trends['AtRiskCount'] / monthly_trends['TotalRecords'] * 100).round(1)\n",
        "monthly_trends['HighPerformerRate'] = (monthly_trends['HighPerformerCount'] / monthly_trends['TotalRecords'] * 100).round(1)\n",
        "\n",
        "# Sort by month and region\n",
        "monthly_trends = monthly_trends.sort_values(['Month', 'Region'])\n",
        "\n",
        "print(\"Monthly Trends Preview:\")\n",
        "print(f\"Shape: {monthly_trends.shape}\")\n",
        "print(monthly_trends[['Month', 'Region', 'AvgAssignmentRate', 'AvgUtilizationRate', 'UniqueCustomers']].head(8))\n",
        "\n",
        "# Save to CSV\n",
        "monthly_trends.to_csv('autodesk_monthly_trends.csv', index=False)\n",
        "print(f\"\\n✅ Saved: autodesk_monthly_trends.csv ({len(monthly_trends)} month-region combinations)\")\n",
        "print(\"Perfect for time-series analysis and trend visualization!\")\n",
        "\n",
        "# Create overall monthly summary (without regional breakdown)\n",
        "print(\"\\nCreating Overall Monthly Summary...\")\n",
        "\n",
        "overall_monthly = master_df.groupby('MonthYear').agg({\n",
        "    'AssignmentRate': ['mean', 'median'],\n",
        "    'UtilizationRate': ['mean', 'median'],\n",
        "    'SeatsPurchased': 'sum',\n",
        "    'AccountID': ['count', 'nunique'],\n",
        "    'MonthlyActiveUsers': 'sum',\n",
        "    'HighPerformer': 'sum',\n",
        "    'AtRisk': 'sum',\n",
        "    'ExpansionCandidate': 'sum'\n",
        "}).round(1)\n",
        "\n",
        "# Flatten and clean\n",
        "overall_monthly.columns = ['_'.join(col).strip() for col in overall_monthly.columns]\n",
        "overall_monthly = overall_monthly.reset_index()\n",
        "\n",
        "# Rename columns\n",
        "overall_monthly = overall_monthly.rename(columns={\n",
        "    'MonthYear': 'Month',\n",
        "    'AssignmentRate_mean': 'AvgAssignmentRate',\n",
        "    'UtilizationRate_mean': 'AvgUtilizationRate',\n",
        "    'SeatsPurchased_sum': 'TotalSeats',\n",
        "    'AccountID_nunique': 'UniqueCustomers',\n",
        "    'MonthlyActiveUsers_sum': 'TotalActiveUsers'\n",
        "})\n",
        "\n",
        "# Add month-over-month changes\n",
        "overall_monthly = overall_monthly.sort_values('Month')\n",
        "overall_monthly['AssignmentRateChange'] = overall_monthly['AvgAssignmentRate'].pct_change() * 100\n",
        "overall_monthly['UtilizationRateChange'] = overall_monthly['AvgUtilizationRate'].pct_change() * 100\n",
        "\n",
        "print(\"Overall Monthly Summary:\")\n",
        "print(overall_monthly[['Month', 'AvgAssignmentRate', 'AvgUtilizationRate', 'AssignmentRateChange', 'UtilizationRateChange']].round(2))\n",
        "\n",
        "# Save overall monthly\n",
        "overall_monthly.to_csv('autodesk_overall_monthly_trends.csv', index=False)\n",
        "print(f\"\\n✅ Saved: autodesk_overall_monthly_trends.csv ({len(overall_monthly)} months)\")\n",
        "print(\"Ideal for executive-level monthly performance tracking!\")"
      ],
      "metadata": {
        "colab": {
          "base_uri": "https://localhost:8080/"
        },
        "id": "jwtGXEiDXyn-",
        "outputId": "c1fe1132-15e0-4685-aa36-37cede98b953"
      },
      "execution_count": 33,
      "outputs": [
        {
          "output_type": "stream",
          "name": "stdout",
          "text": [
            "Creating Monthly Trends Dataset for Power BI\n",
            "==================================================\n",
            "Monthly Trends Preview:\n",
            "Shape: (24, 19)\n",
            "     Month         Region  AvgAssignmentRate  AvgUtilizationRate  \\\n",
            "0  2024-05            ANZ               97.0                78.8   \n",
            "1  2024-05          Asean               92.1                75.2   \n",
            "2  2024-05  Greater China               82.4                57.0   \n",
            "3  2024-05          INDIA               90.8                77.6   \n",
            "4  2024-05          Japan               95.9                75.5   \n",
            "5  2024-05          Korea               90.8                71.6   \n",
            "6  2024-06            ANZ               97.1                78.5   \n",
            "7  2024-06          Asean               92.5                75.1   \n",
            "\n",
            "   UniqueCustomers  \n",
            "0            35074  \n",
            "1            34288  \n",
            "2            27719  \n",
            "3            29353  \n",
            "4            75296  \n",
            "5            37000  \n",
            "6            34202  \n",
            "7            34674  \n",
            "\n",
            "✅ Saved: autodesk_monthly_trends.csv (24 month-region combinations)\n",
            "Perfect for time-series analysis and trend visualization!\n",
            "\n",
            "Creating Overall Monthly Summary...\n",
            "Overall Monthly Summary:\n",
            "     Month  AvgAssignmentRate  AvgUtilizationRate  AssignmentRateChange  \\\n",
            "0  2024-05               92.5                73.4                   NaN   \n",
            "1  2024-06               92.8                73.5                  0.32   \n",
            "2  2024-07               92.9                74.5                  0.11   \n",
            "3  2024-08               93.3                74.6                  0.43   \n",
            "\n",
            "   UtilizationRateChange  \n",
            "0                    NaN  \n",
            "1                   0.14  \n",
            "2                   1.36  \n",
            "3                   0.13  \n",
            "\n",
            "✅ Saved: autodesk_overall_monthly_trends.csv (4 months)\n",
            "Ideal for executive-level monthly performance tracking!\n"
          ]
        }
      ]
    },
    {
      "cell_type": "markdown",
      "source": [
        "\n",
        "\n",
        "---\n",
        "\n"
      ],
      "metadata": {
        "id": "H-uZupZlX0t5"
      }
    },
    {
      "cell_type": "markdown",
      "source": [
        "# Power BI Dataset Optimization Strategy\n",
        "## From Analysis to Actionable Intelligence\n",
        "\n",
        "###  **Strategic Approach: Why These 7 Datasets?**\n",
        "\n",
        "After completing our comprehensive 12-step analysis, I designed a **stakeholder-segmented data architecture** that transforms complex findings into purpose-built datasets. Each dataset solves specific business questions identified during our analysis.\n",
        "\n",
        "---\n",
        "\n",
        "##  **Dataset Architecture & Business Logic**\n",
        "\n",
        "### **1. Master Fact Table: autodesk_master_usage_data.csv**\n",
        "*955,033 records | Complete dimensional model*\n",
        "\n",
        "**Why Created:** Stakeholders need drill-down capability from high-level insights to individual account details.\n",
        "\n",
        "**Optimization Decisions:**\n",
        "- **Performance Flags:** Added `HighPerformer`, `AtRisk`, `ExpansionCandidate` boolean fields for instant filtering\n",
        "- **Calculated Fields:** Pre-computed `UnusedSeats`, `UnassignedSeats` to avoid runtime calculations  \n",
        "- **Date Intelligence:** Split Month into Year/MonthNum components for proper time hierarchy\n",
        "- **Business-Friendly Names:** Removed underscores, used PascalCase for Power BI best practices\n",
        "\n",
        "**Key Discovery Embedded:** Enterprise paradox (500+ seat customers perform 40 points worse) accessible via CustomerSizeBand filtering.\n",
        "\n",
        "---\n",
        "\n",
        "### **2. Executive Summary: autodesk_regional_summary.csv**\n",
        "*6 regions | Pre-aggregated for C-level dashboards*\n",
        "\n",
        "**Why Created:** Step 11 revealed 21.8-point utilization gap between ANZ and Greater China requiring executive attention.\n",
        "\n",
        "**Strategic Fields Added:**\n",
        "- **Performance Rankings:** `AssignmentRateRank`, `UtilizationRateRank` for competitive analysis\n",
        "- **Market Context:** `MarketShareBySeats` vs performance correlation\n",
        "- **Risk Indicators:** `AtRiskRate` by region for intervention prioritization\n",
        "\n",
        "**Business Impact:** Enables 3-second executive insight: \"Greater China underperforming by 21.8 points, represents 11.6% market share.\"\n",
        "\n",
        "---\n",
        "\n",
        "### **3. Segmentation Insights: autodesk_sizeband_analysis.csv**\n",
        "*8 size bands | Enterprise crisis focus*\n",
        "\n",
        "**Why Created:** Step 9 uncovered counterintuitive finding - largest customers show worst performance.\n",
        "\n",
        "**Analytical Enhancements:**\n",
        "- **Revenue vs Performance:** `RevenueContribution` vs `AvgUtilizationRate` reveals ROI crisis\n",
        "- **Complexity Indicator:** `PerformanceGap` (Assignment vs Utilization) highlights enterprise deployment challenges\n",
        "- **Sorting Logic:** `SizeBandOrder` ensures proper visualization progression\n",
        "\n",
        "**Critical Business Question Answered:** \"Why do our highest-value customers have lowest adoption rates?\"\n",
        "\n",
        "---\n",
        "\n",
        "### **4. Lifecycle Intelligence: autodesk_tenure_analysis.csv**\n",
        "*9 tenure segments | Customer journey optimization*\n",
        "\n",
        "**Why Created:** Step 10 revealed surprising pattern - new customers outperform veterans by 14 points.\n",
        "\n",
        "**Journey Mapping Fields:**\n",
        "- **Lifecycle Classification:** `LifecycleStage` groups quarters into business-meaningful phases\n",
        "- **Trajectory Analysis:** `TenureOrder` enables proper chronological visualization\n",
        "- **Intervention Targeting:** Veteran customer re-engagement opportunity quantified\n",
        "\n",
        "**Strategic Insight:** First-quarter customers achieve 94.4% assignment vs 74.9% for 3+ year veterans.\n",
        "\n",
        "---\n",
        "\n",
        "### **5. Strategic Decision Support: autodesk_risk_opportunity_matrix.csv**\n",
        "*5 performance categories | Predictive customer success*\n",
        "\n",
        "**Why Created:** Step 12 established usage patterns correlating with revenue performance.\n",
        "\n",
        "**Predictive Analytics Fields:**\n",
        "- **Business Signal Classification:** Growth Opportunity vs Risk Signal categories\n",
        "- **Early Warning System:** AtRiskRate by category establishes intervention thresholds\n",
        "- **Resource Allocation:** `PriorityOrder` guides customer success team focus\n",
        "\n",
        "**Key Threshold Discovered:** <60% utilization correlates with churn, >80% indicates expansion readiness.\n",
        "\n",
        "---\n",
        "\n",
        "### **6. Time-Series Analysis: autodesk_monthly_trends.csv**\n",
        "*24 month-region combinations | Trend identification*\n",
        "\n",
        "**Why Created:** Stakeholders need to track improvement progress against baselines established in Step 7.\n",
        "\n",
        "**Trend Analytics:**\n",
        "- **Efficiency Tracking:** `UtilizationEfficiency` shows regional improvement trajectories  \n",
        "- **Risk Monitoring:** `AtRiskRate` trending identifies deteriorating regions\n",
        "- **Seasonal Patterns:** Month-over-month analysis capability\n",
        "\n",
        "---\n",
        "\n",
        "### **7. Executive KPI Tracking: autodesk_overall_monthly_trends.csv**\n",
        "*4 months | C-level performance monitoring*\n",
        "\n",
        "**Why Created:** Board-level reporting requires simple, high-level APAC performance narrative.\n",
        "\n",
        "**Executive Metrics:**\n",
        "- **Change Indicators:** `AssignmentRateChange`, `UtilizationRateChange` for trend storytelling\n",
        "- **Baseline Comparison:** Track against 92.9%/74.0% baselines from our analysis\n",
        "- **Performance Velocity:** Month-over-month acceleration/deceleration patterns\n",
        "\n",
        "---\n",
        "\n",
        "##  **Why This Architecture Wins**\n",
        "\n",
        "### **Performance Optimization**\n",
        "- **Pre-aggregated summaries** eliminate dashboard loading delays\n",
        "- **Calculated business logic** embedded at dataset level, not visual level\n",
        "- **Proper relationships** via AccountID, Region keys\n",
        "\n",
        "### **Stakeholder Segmentation**  \n",
        "- **Executive datasets** (regional summary, overall trends) for 30-second insights\n",
        "- **Operational datasets** (master data, risk matrix) for detailed analysis\n",
        "- **Strategic datasets** (tenure, size band) for long-term planning\n",
        "\n",
        "### **Discovery Integration**\n",
        "Each dataset embeds our **critical findings**:\n",
        "- Enterprise performance paradox → Size band analysis\n",
        "- Regional disparity crisis → Regional summary  \n",
        "- Veteran customer decline → Tenure analysis\n",
        "- Predictive churn signals → Risk opportunity matrix\n",
        "\n",
        "**Result:** Power BI dashboards that don't just visualize data - they tell the strategic story discovered through our analysis.**"
      ],
      "metadata": {
        "id": "jbp8pns0X1gZ"
      }
    },
    {
      "cell_type": "markdown",
      "source": [
        "![logo.png](data:image/png;base64,iVBORw0KGgoAAAANSUhEUgAAAQQAAADCCAMAAACYEEwlAAAAe1BMVEX///8AAADU1MnLy8uRkZHg4OC3t7dzc3Ovr6/a2tr4+PjAwMD8/PyHh4csLCxubm7IyMifn59SUlLr6+vz8/PV1dW5ubk3Nzd/f3+pqalZWVlkZGTj4+MmJiaZmZnW1tYwMDAPDw9DQ0OMjIwYGBg7OztfX19MTEwdHR2vN/P8AAAFlklEQVR4nO3Y23qiOgAF4EVVUMGKglbr+dTO+z/hJisBEt2djf06c7PXumghnJKfQIJ4UV7wgv99hAAhMEKAEBghQAiMECAERggQAiMECIERAoTACAFCYIQAITBCgBAYIUAIjBAgBEYIEAIjBAiBEQKEwAgBQmCEACEwQoAQGCFACIwQIARGCBACIwQIgREChMAIAUJghAAhMEKAEBghQAiMECAERggQAiMECIERAoTACAFCYIQAITBCgBAYIUAIjBAgBEYIEAIjBAiBEQKEwAgBQmCEACEwQoAQGCHg+whZr84iCzaM86osH7i1hbc8MluAvBdkYTcW68lmvunHpdu5qHc7DLL7Iv+4fL96f5/u8/biecHFkvUI6/ZVvomweIuaDIItQ5btxrZSp2p55bZszAaMozC/TD0Pn816YtsQe7sc+6RZB8cdw71OS7M+MIsxDc6Rd+k/gVCu/OqECE6nZxFeq8WJ2zL9VwTTmFlQkt8jRNH1gJq3zrkq6fsFKx8heydox/Z8ByE+BdUJEEaucNoV4fXeIIoWDwjRcXyP8Ab0wn1iD2H1jME3ELYfd3UOEC5Vwc6UFl8gZJukCm8Ulya25tHukh/ixLpkDoE7zFk2dAgsssfZ5yvJR6OUS7sWYWL+zzs36VmEbB/dx0fIrlXB2jyPsy8QbHLvQLZgY9+Ig51rMRG2LGPjp+5/4V3sVq337SJbPaoR+Pb4LNE1TyL0bg8GAUJqCsZ9211/g5DaSptkvIt1jRfuHsbemY/V4i2zCNv2WuO39uRlHMfDwiKkS/P31t3gOYQyeSQIEUw3/7B1WXRE4JO9b87Ahy0LEMwDfiotwjq1MeUcAM79NB/VDeaF2StOfpf5SYTghZisbBIfYcs7gcxUL+mIwPvWa05xsZ3eR2BRGb4YzcDqPZnX83pcI0TtuX8cYfvp1eHctDz3EWaunXv3vwtCXHcbm7Xd8h8IV4Mw9iYr1YSj8BCeMuiOEExVhnVp+R48DjfX5sLt1LkntAj023bqCUFf4GDbIEzwTDojeP1g2rxz9l5V4R7v6X6/75uX/Fs3hDRQRWKb6CMkHsJlZlPvvk3jfTJ/Zb1y73F4SqEzwrw+/S6vi/JjFCLcvTcHFmHqtppX3ukRoTSLn/UpuHYLRwcjWs2WHkaHQZXMO9/MIsxO5m//TyL0m++ZadPWugHXEGHijrIv6q3Zen5EsH3MDQ/Zh2uAN0+w8yY8ILDFa7fyynPYIZKv52bLzyPMvRdie8NdwnltZPo+h6tdWpRF+ua1NUDg1CDaLIqiSDnqGTW2PDYfofY7Ze9Ob4rcV2TGM8ZFWZYFr7OsJ0v2jPGfQbi2j66d54UIZpJwHIxMBmtbq63b55f7X4/ePgKmdzuZq9x9O5gDQ+NXJ1wtHXf1PvW0efmcwjMIiT8BeURgg+s3VnGKOPMLa76sjw4Q7CdfE/aWOwTTtx++IsMhMviAsmNZ8/b6KYTzrhest59RNcLE3TGbd7cp3bU3r61UgBB8R+4sVIBw5ATx4SsSha9n9ml/T7CDZzvy/gzC8H790reZ1O2eVSvN0IVFtf1iKpEtEzOKHFep9zPPyBztdaxyPTUPwzGJ3U6H+vT9/dANAYumqN9caXH5PBneKSeMKMxFD9yyrva5dBwi/s5vjFnW4XeuLvt8++S/jX5ohRAYIUAIjBAgBEYIEAIjBAiBEQKEwAgBQmCEACEwQoAQGCFACIwQIARGCBACIwQIgREChMAIAUJghAAhMEKAEBghQAiMECAERggQAiMECIERAoTACAFCYIQAITBCgBAYIUAIjBAgBEYIEAIjBAiBEQKEwAgBQmCEACEwQoAQGCFACIwQIARGCBACIwQIgREChMAIAUJghAAhMEKAEBghQAiMECAEpkJQXv4B0Yc+FP3QWDsAAAAASUVORK5CYII=)"
      ],
      "metadata": {
        "id": "yIuhATOMZLxT"
      }
    }
  ]
}